{
 "cells": [
  {
   "cell_type": "markdown",
   "metadata": {},
   "source": [
    "###  Problem statement : Predict the stock market prices for 5 stocks"
   ]
  },
  {
   "cell_type": "markdown",
   "metadata": {},
   "source": [
    "### Importing Libraries"
   ]
  },
  {
   "cell_type": "code",
   "execution_count": 1,
   "metadata": {},
   "outputs": [],
   "source": [
    "import numpy as np\n",
    "import pandas as pd\n",
    "import matplotlib.pyplot as plt\n",
    "%matplotlib inline\n",
    "import seaborn as sns\n",
    "from sklearn.metrics import mean_squared_error"
   ]
  },
  {
   "cell_type": "code",
   "execution_count": 2,
   "metadata": {},
   "outputs": [],
   "source": [
    "train_data = pd.read_csv('new_train.csv', parse_dates = True)\n",
    "test_data = pd.read_csv('new_test.csv', parse_dates = True)"
   ]
  },
  {
   "cell_type": "code",
   "execution_count": 3,
   "metadata": {
    "scrolled": true
   },
   "outputs": [
    {
     "data": {
      "text/html": [
       "<div>\n",
       "<style scoped>\n",
       "    .dataframe tbody tr th:only-of-type {\n",
       "        vertical-align: middle;\n",
       "    }\n",
       "\n",
       "    .dataframe tbody tr th {\n",
       "        vertical-align: top;\n",
       "    }\n",
       "\n",
       "    .dataframe thead th {\n",
       "        text-align: right;\n",
       "    }\n",
       "</style>\n",
       "<table border=\"1\" class=\"dataframe\">\n",
       "  <thead>\n",
       "    <tr style=\"text-align: right;\">\n",
       "      <th></th>\n",
       "      <th>Date</th>\n",
       "      <th>Open-Stock-1</th>\n",
       "      <th>High-Stock-1</th>\n",
       "      <th>Low-Stock-1</th>\n",
       "      <th>Close-Stock-1</th>\n",
       "      <th>VWAP-Stock-1</th>\n",
       "      <th>Volume-Stock-1</th>\n",
       "      <th>Turnover-Stock-1</th>\n",
       "      <th>Open-Stock-2</th>\n",
       "      <th>High-Stock-2</th>\n",
       "      <th>...</th>\n",
       "      <th>VWAP-Stock-4</th>\n",
       "      <th>Volume-Stock-4</th>\n",
       "      <th>Turnover-Stock-4</th>\n",
       "      <th>Open-Stock-5</th>\n",
       "      <th>High-Stock-5</th>\n",
       "      <th>Low-Stock-5</th>\n",
       "      <th>Close-Stock-5</th>\n",
       "      <th>VWAP-Stock-5</th>\n",
       "      <th>Volume-Stock-5</th>\n",
       "      <th>Turnover-Stock-5</th>\n",
       "    </tr>\n",
       "  </thead>\n",
       "  <tbody>\n",
       "    <tr>\n",
       "      <th>0</th>\n",
       "      <td>2010-06-01</td>\n",
       "      <td>1889.7</td>\n",
       "      <td>1890.00</td>\n",
       "      <td>1838.00</td>\n",
       "      <td>1855.10</td>\n",
       "      <td>1855.75</td>\n",
       "      <td>568273</td>\n",
       "      <td>105457457545000</td>\n",
       "      <td>285.40</td>\n",
       "      <td>285.95</td>\n",
       "      <td>...</td>\n",
       "      <td>844.44</td>\n",
       "      <td>3878011</td>\n",
       "      <td>327474904340000</td>\n",
       "      <td>1235.0</td>\n",
       "      <td>1238.00</td>\n",
       "      <td>1177.0</td>\n",
       "      <td>1181.70</td>\n",
       "      <td>1197.29</td>\n",
       "      <td>1786082</td>\n",
       "      <td>213845404410000</td>\n",
       "    </tr>\n",
       "    <tr>\n",
       "      <th>1</th>\n",
       "      <td>2010-06-02</td>\n",
       "      <td>1848.0</td>\n",
       "      <td>1862.75</td>\n",
       "      <td>1828.00</td>\n",
       "      <td>1853.05</td>\n",
       "      <td>1842.82</td>\n",
       "      <td>945167</td>\n",
       "      <td>174177161135000</td>\n",
       "      <td>284.00</td>\n",
       "      <td>284.80</td>\n",
       "      <td>...</td>\n",
       "      <td>838.31</td>\n",
       "      <td>3320996</td>\n",
       "      <td>278403743240000</td>\n",
       "      <td>1195.0</td>\n",
       "      <td>1206.95</td>\n",
       "      <td>1168.5</td>\n",
       "      <td>1201.15</td>\n",
       "      <td>1189.87</td>\n",
       "      <td>1307410</td>\n",
       "      <td>155564994855000</td>\n",
       "    </tr>\n",
       "    <tr>\n",
       "      <th>2</th>\n",
       "      <td>2010-06-03</td>\n",
       "      <td>1864.1</td>\n",
       "      <td>1910.00</td>\n",
       "      <td>1864.10</td>\n",
       "      <td>1905.60</td>\n",
       "      <td>1893.91</td>\n",
       "      <td>679689</td>\n",
       "      <td>128727119355000</td>\n",
       "      <td>283.00</td>\n",
       "      <td>286.85</td>\n",
       "      <td>...</td>\n",
       "      <td>853.51</td>\n",
       "      <td>2494522</td>\n",
       "      <td>212910342645000</td>\n",
       "      <td>1211.0</td>\n",
       "      <td>1248.00</td>\n",
       "      <td>1211.0</td>\n",
       "      <td>1242.30</td>\n",
       "      <td>1231.63</td>\n",
       "      <td>1482919</td>\n",
       "      <td>182640434320000</td>\n",
       "    </tr>\n",
       "    <tr>\n",
       "      <th>3</th>\n",
       "      <td>2010-06-04</td>\n",
       "      <td>1906.0</td>\n",
       "      <td>1909.80</td>\n",
       "      <td>1880.10</td>\n",
       "      <td>1885.70</td>\n",
       "      <td>1889.21</td>\n",
       "      <td>509435</td>\n",
       "      <td>96242800140000</td>\n",
       "      <td>288.85</td>\n",
       "      <td>291.80</td>\n",
       "      <td>...</td>\n",
       "      <td>862.85</td>\n",
       "      <td>2963920</td>\n",
       "      <td>255740999120000</td>\n",
       "      <td>1240.0</td>\n",
       "      <td>1258.00</td>\n",
       "      <td>1240.0</td>\n",
       "      <td>1245.45</td>\n",
       "      <td>1249.72</td>\n",
       "      <td>1454459</td>\n",
       "      <td>181767075850000</td>\n",
       "    </tr>\n",
       "    <tr>\n",
       "      <th>4</th>\n",
       "      <td>2010-06-07</td>\n",
       "      <td>1867.0</td>\n",
       "      <td>1894.85</td>\n",
       "      <td>1808.35</td>\n",
       "      <td>1876.65</td>\n",
       "      <td>1873.32</td>\n",
       "      <td>961913</td>\n",
       "      <td>180196832650000</td>\n",
       "      <td>285.00</td>\n",
       "      <td>289.10</td>\n",
       "      <td>...</td>\n",
       "      <td>839.89</td>\n",
       "      <td>3471483</td>\n",
       "      <td>291567400640000</td>\n",
       "      <td>1218.6</td>\n",
       "      <td>1225.00</td>\n",
       "      <td>1196.0</td>\n",
       "      <td>1214.80</td>\n",
       "      <td>1209.27</td>\n",
       "      <td>1424594</td>\n",
       "      <td>172272511430000</td>\n",
       "    </tr>\n",
       "  </tbody>\n",
       "</table>\n",
       "<p>5 rows × 36 columns</p>\n",
       "</div>"
      ],
      "text/plain": [
       "         Date  Open-Stock-1  High-Stock-1  Low-Stock-1  Close-Stock-1  \\\n",
       "0  2010-06-01        1889.7       1890.00      1838.00        1855.10   \n",
       "1  2010-06-02        1848.0       1862.75      1828.00        1853.05   \n",
       "2  2010-06-03        1864.1       1910.00      1864.10        1905.60   \n",
       "3  2010-06-04        1906.0       1909.80      1880.10        1885.70   \n",
       "4  2010-06-07        1867.0       1894.85      1808.35        1876.65   \n",
       "\n",
       "   VWAP-Stock-1  Volume-Stock-1  Turnover-Stock-1  Open-Stock-2  High-Stock-2  \\\n",
       "0       1855.75          568273   105457457545000        285.40        285.95   \n",
       "1       1842.82          945167   174177161135000        284.00        284.80   \n",
       "2       1893.91          679689   128727119355000        283.00        286.85   \n",
       "3       1889.21          509435    96242800140000        288.85        291.80   \n",
       "4       1873.32          961913   180196832650000        285.00        289.10   \n",
       "\n",
       "   ...  VWAP-Stock-4  Volume-Stock-4  Turnover-Stock-4  Open-Stock-5  \\\n",
       "0  ...        844.44         3878011   327474904340000        1235.0   \n",
       "1  ...        838.31         3320996   278403743240000        1195.0   \n",
       "2  ...        853.51         2494522   212910342645000        1211.0   \n",
       "3  ...        862.85         2963920   255740999120000        1240.0   \n",
       "4  ...        839.89         3471483   291567400640000        1218.6   \n",
       "\n",
       "   High-Stock-5  Low-Stock-5  Close-Stock-5  VWAP-Stock-5  Volume-Stock-5  \\\n",
       "0       1238.00       1177.0        1181.70       1197.29         1786082   \n",
       "1       1206.95       1168.5        1201.15       1189.87         1307410   \n",
       "2       1248.00       1211.0        1242.30       1231.63         1482919   \n",
       "3       1258.00       1240.0        1245.45       1249.72         1454459   \n",
       "4       1225.00       1196.0        1214.80       1209.27         1424594   \n",
       "\n",
       "   Turnover-Stock-5  \n",
       "0   213845404410000  \n",
       "1   155564994855000  \n",
       "2   182640434320000  \n",
       "3   181767075850000  \n",
       "4   172272511430000  \n",
       "\n",
       "[5 rows x 36 columns]"
      ]
     },
     "execution_count": 3,
     "metadata": {},
     "output_type": "execute_result"
    }
   ],
   "source": [
    "train_data.head()"
   ]
  },
  {
   "cell_type": "code",
   "execution_count": 4,
   "metadata": {
    "scrolled": false
   },
   "outputs": [
    {
     "data": {
      "text/html": [
       "<div>\n",
       "<style scoped>\n",
       "    .dataframe tbody tr th:only-of-type {\n",
       "        vertical-align: middle;\n",
       "    }\n",
       "\n",
       "    .dataframe tbody tr th {\n",
       "        vertical-align: top;\n",
       "    }\n",
       "\n",
       "    .dataframe thead th {\n",
       "        text-align: right;\n",
       "    }\n",
       "</style>\n",
       "<table border=\"1\" class=\"dataframe\">\n",
       "  <thead>\n",
       "    <tr style=\"text-align: right;\">\n",
       "      <th></th>\n",
       "      <th>Date</th>\n",
       "      <th>Open-Stock-1</th>\n",
       "      <th>High-Stock-1</th>\n",
       "      <th>Low-Stock-1</th>\n",
       "      <th>VWAP-Stock-1</th>\n",
       "      <th>Volume-Stock-1</th>\n",
       "      <th>Turnover-Stock-1</th>\n",
       "      <th>Open-Stock-2</th>\n",
       "      <th>High-Stock-2</th>\n",
       "      <th>Low-Stock-2</th>\n",
       "      <th>...</th>\n",
       "      <th>Low-Stock-4</th>\n",
       "      <th>VWAP-Stock-4</th>\n",
       "      <th>Volume-Stock-4</th>\n",
       "      <th>Turnover-Stock-4</th>\n",
       "      <th>Open-Stock-5</th>\n",
       "      <th>High-Stock-5</th>\n",
       "      <th>Low-Stock-5</th>\n",
       "      <th>VWAP-Stock-5</th>\n",
       "      <th>Volume-Stock-5</th>\n",
       "      <th>Turnover-Stock-5</th>\n",
       "    </tr>\n",
       "  </thead>\n",
       "  <tbody>\n",
       "    <tr>\n",
       "      <th>0</th>\n",
       "      <td>2011-08-04</td>\n",
       "      <td>484.1</td>\n",
       "      <td>488.90</td>\n",
       "      <td>475.00</td>\n",
       "      <td>481.00</td>\n",
       "      <td>1829606</td>\n",
       "      <td>88003633160000</td>\n",
       "      <td>204.90</td>\n",
       "      <td>206.75</td>\n",
       "      <td>199.20</td>\n",
       "      <td>...</td>\n",
       "      <td>990.00</td>\n",
       "      <td>1003.31</td>\n",
       "      <td>2716435</td>\n",
       "      <td>272542181190000</td>\n",
       "      <td>1303.6</td>\n",
       "      <td>1312.8</td>\n",
       "      <td>1281.00</td>\n",
       "      <td>1297.04</td>\n",
       "      <td>1569675</td>\n",
       "      <td>203593328285000</td>\n",
       "    </tr>\n",
       "    <tr>\n",
       "      <th>1</th>\n",
       "      <td>2011-08-05</td>\n",
       "      <td>465.0</td>\n",
       "      <td>475.80</td>\n",
       "      <td>457.10</td>\n",
       "      <td>469.56</td>\n",
       "      <td>3156094</td>\n",
       "      <td>148196817355000</td>\n",
       "      <td>195.00</td>\n",
       "      <td>198.00</td>\n",
       "      <td>190.50</td>\n",
       "      <td>...</td>\n",
       "      <td>950.00</td>\n",
       "      <td>961.50</td>\n",
       "      <td>4644498</td>\n",
       "      <td>446567961345000</td>\n",
       "      <td>1245.0</td>\n",
       "      <td>1252.5</td>\n",
       "      <td>1200.00</td>\n",
       "      <td>1229.09</td>\n",
       "      <td>3125692</td>\n",
       "      <td>384176649890000</td>\n",
       "    </tr>\n",
       "    <tr>\n",
       "      <th>2</th>\n",
       "      <td>2011-08-08</td>\n",
       "      <td>463.0</td>\n",
       "      <td>480.00</td>\n",
       "      <td>458.05</td>\n",
       "      <td>465.04</td>\n",
       "      <td>4308373</td>\n",
       "      <td>200357861965000</td>\n",
       "      <td>193.90</td>\n",
       "      <td>197.80</td>\n",
       "      <td>189.65</td>\n",
       "      <td>...</td>\n",
       "      <td>933.40</td>\n",
       "      <td>953.24</td>\n",
       "      <td>3450619</td>\n",
       "      <td>328925252905000</td>\n",
       "      <td>1205.2</td>\n",
       "      <td>1265.8</td>\n",
       "      <td>1200.55</td>\n",
       "      <td>1232.93</td>\n",
       "      <td>1660178</td>\n",
       "      <td>204687918340000</td>\n",
       "    </tr>\n",
       "    <tr>\n",
       "      <th>3</th>\n",
       "      <td>2011-08-09</td>\n",
       "      <td>450.0</td>\n",
       "      <td>473.55</td>\n",
       "      <td>449.85</td>\n",
       "      <td>460.88</td>\n",
       "      <td>4490924</td>\n",
       "      <td>206978212685000</td>\n",
       "      <td>190.25</td>\n",
       "      <td>202.10</td>\n",
       "      <td>190.10</td>\n",
       "      <td>...</td>\n",
       "      <td>910.45</td>\n",
       "      <td>938.80</td>\n",
       "      <td>5346085</td>\n",
       "      <td>501890604795000</td>\n",
       "      <td>1190.5</td>\n",
       "      <td>1238.3</td>\n",
       "      <td>1180.90</td>\n",
       "      <td>1206.06</td>\n",
       "      <td>3618186</td>\n",
       "      <td>436376441205000</td>\n",
       "    </tr>\n",
       "    <tr>\n",
       "      <th>4</th>\n",
       "      <td>2011-08-10</td>\n",
       "      <td>494.8</td>\n",
       "      <td>494.80</td>\n",
       "      <td>473.40</td>\n",
       "      <td>478.06</td>\n",
       "      <td>3267226</td>\n",
       "      <td>156192368225000</td>\n",
       "      <td>202.00</td>\n",
       "      <td>202.85</td>\n",
       "      <td>196.00</td>\n",
       "      <td>...</td>\n",
       "      <td>957.70</td>\n",
       "      <td>964.75</td>\n",
       "      <td>3379659</td>\n",
       "      <td>326053305165000</td>\n",
       "      <td>1242.0</td>\n",
       "      <td>1253.7</td>\n",
       "      <td>1225.30</td>\n",
       "      <td>1242.10</td>\n",
       "      <td>1903396</td>\n",
       "      <td>236421421150000</td>\n",
       "    </tr>\n",
       "  </tbody>\n",
       "</table>\n",
       "<p>5 rows × 31 columns</p>\n",
       "</div>"
      ],
      "text/plain": [
       "         Date  Open-Stock-1  High-Stock-1  Low-Stock-1  VWAP-Stock-1  \\\n",
       "0  2011-08-04         484.1        488.90       475.00        481.00   \n",
       "1  2011-08-05         465.0        475.80       457.10        469.56   \n",
       "2  2011-08-08         463.0        480.00       458.05        465.04   \n",
       "3  2011-08-09         450.0        473.55       449.85        460.88   \n",
       "4  2011-08-10         494.8        494.80       473.40        478.06   \n",
       "\n",
       "   Volume-Stock-1  Turnover-Stock-1  Open-Stock-2  High-Stock-2  Low-Stock-2  \\\n",
       "0         1829606    88003633160000        204.90        206.75       199.20   \n",
       "1         3156094   148196817355000        195.00        198.00       190.50   \n",
       "2         4308373   200357861965000        193.90        197.80       189.65   \n",
       "3         4490924   206978212685000        190.25        202.10       190.10   \n",
       "4         3267226   156192368225000        202.00        202.85       196.00   \n",
       "\n",
       "   ...  Low-Stock-4  VWAP-Stock-4  Volume-Stock-4  Turnover-Stock-4  \\\n",
       "0  ...       990.00       1003.31         2716435   272542181190000   \n",
       "1  ...       950.00        961.50         4644498   446567961345000   \n",
       "2  ...       933.40        953.24         3450619   328925252905000   \n",
       "3  ...       910.45        938.80         5346085   501890604795000   \n",
       "4  ...       957.70        964.75         3379659   326053305165000   \n",
       "\n",
       "   Open-Stock-5  High-Stock-5  Low-Stock-5  VWAP-Stock-5  Volume-Stock-5  \\\n",
       "0        1303.6        1312.8      1281.00       1297.04         1569675   \n",
       "1        1245.0        1252.5      1200.00       1229.09         3125692   \n",
       "2        1205.2        1265.8      1200.55       1232.93         1660178   \n",
       "3        1190.5        1238.3      1180.90       1206.06         3618186   \n",
       "4        1242.0        1253.7      1225.30       1242.10         1903396   \n",
       "\n",
       "   Turnover-Stock-5  \n",
       "0   203593328285000  \n",
       "1   384176649890000  \n",
       "2   204687918340000  \n",
       "3   436376441205000  \n",
       "4   236421421150000  \n",
       "\n",
       "[5 rows x 31 columns]"
      ]
     },
     "execution_count": 4,
     "metadata": {},
     "output_type": "execute_result"
    }
   ],
   "source": [
    "test_data.head()"
   ]
  },
  {
   "cell_type": "code",
   "execution_count": 5,
   "metadata": {},
   "outputs": [
    {
     "name": "stdout",
     "output_type": "stream",
     "text": [
      "<class 'pandas.core.frame.DataFrame'>\n",
      "RangeIndex: 299 entries, 0 to 298\n",
      "Data columns (total 36 columns):\n",
      " #   Column            Non-Null Count  Dtype  \n",
      "---  ------            --------------  -----  \n",
      " 0   Date              299 non-null    object \n",
      " 1   Open-Stock-1      299 non-null    float64\n",
      " 2   High-Stock-1      299 non-null    float64\n",
      " 3   Low-Stock-1       299 non-null    float64\n",
      " 4   Close-Stock-1     299 non-null    float64\n",
      " 5   VWAP-Stock-1      299 non-null    float64\n",
      " 6   Volume-Stock-1    299 non-null    int64  \n",
      " 7   Turnover-Stock-1  299 non-null    int64  \n",
      " 8   Open-Stock-2      299 non-null    float64\n",
      " 9   High-Stock-2      299 non-null    float64\n",
      " 10  Low-Stock-2       299 non-null    float64\n",
      " 11  Close-Stock-2     299 non-null    float64\n",
      " 12  VWAP-Stock-2      299 non-null    float64\n",
      " 13  Volume-Stock-2    299 non-null    int64  \n",
      " 14  Turnover-Stock-2  299 non-null    int64  \n",
      " 15  Open-Stock-3      299 non-null    float64\n",
      " 16  High-Stock-3      299 non-null    float64\n",
      " 17  Low-Stock-3       299 non-null    float64\n",
      " 18  Close-Stock-3     299 non-null    float64\n",
      " 19  VWAP-Stock-3      299 non-null    float64\n",
      " 20  Volume-Stock-3    299 non-null    int64  \n",
      " 21  Turnover-Stock-3  299 non-null    int64  \n",
      " 22  Open-Stock-4      299 non-null    float64\n",
      " 23  High-Stock-4      299 non-null    float64\n",
      " 24  Low-Stock-4       299 non-null    float64\n",
      " 25  Close-Stock-4     299 non-null    float64\n",
      " 26  VWAP-Stock-4      299 non-null    float64\n",
      " 27  Volume-Stock-4    299 non-null    int64  \n",
      " 28  Turnover-Stock-4  299 non-null    int64  \n",
      " 29  Open-Stock-5      299 non-null    float64\n",
      " 30  High-Stock-5      299 non-null    float64\n",
      " 31  Low-Stock-5       299 non-null    float64\n",
      " 32  Close-Stock-5     299 non-null    float64\n",
      " 33  VWAP-Stock-5      299 non-null    float64\n",
      " 34  Volume-Stock-5    299 non-null    int64  \n",
      " 35  Turnover-Stock-5  299 non-null    int64  \n",
      "dtypes: float64(25), int64(10), object(1)\n",
      "memory usage: 84.2+ KB\n"
     ]
    }
   ],
   "source": [
    "train_data.info()"
   ]
  },
  {
   "cell_type": "code",
   "execution_count": 6,
   "metadata": {},
   "outputs": [
    {
     "name": "stdout",
     "output_type": "stream",
     "text": [
      "(299, 36) (97, 31)\n"
     ]
    }
   ],
   "source": [
    "print(train_data.shape, test_data.shape)"
   ]
  },
  {
   "cell_type": "code",
   "execution_count": 7,
   "metadata": {},
   "outputs": [
    {
     "data": {
      "text/html": [
       "<div>\n",
       "<style scoped>\n",
       "    .dataframe tbody tr th:only-of-type {\n",
       "        vertical-align: middle;\n",
       "    }\n",
       "\n",
       "    .dataframe tbody tr th {\n",
       "        vertical-align: top;\n",
       "    }\n",
       "\n",
       "    .dataframe thead th {\n",
       "        text-align: right;\n",
       "    }\n",
       "</style>\n",
       "<table border=\"1\" class=\"dataframe\">\n",
       "  <thead>\n",
       "    <tr style=\"text-align: right;\">\n",
       "      <th></th>\n",
       "      <th>Open-Stock-1</th>\n",
       "      <th>High-Stock-1</th>\n",
       "      <th>Low-Stock-1</th>\n",
       "      <th>Close-Stock-1</th>\n",
       "      <th>VWAP-Stock-1</th>\n",
       "      <th>Volume-Stock-1</th>\n",
       "      <th>Turnover-Stock-1</th>\n",
       "      <th>Open-Stock-2</th>\n",
       "      <th>High-Stock-2</th>\n",
       "      <th>Low-Stock-2</th>\n",
       "      <th>...</th>\n",
       "      <th>VWAP-Stock-4</th>\n",
       "      <th>Volume-Stock-4</th>\n",
       "      <th>Turnover-Stock-4</th>\n",
       "      <th>Open-Stock-5</th>\n",
       "      <th>High-Stock-5</th>\n",
       "      <th>Low-Stock-5</th>\n",
       "      <th>Close-Stock-5</th>\n",
       "      <th>VWAP-Stock-5</th>\n",
       "      <th>Volume-Stock-5</th>\n",
       "      <th>Turnover-Stock-5</th>\n",
       "    </tr>\n",
       "  </thead>\n",
       "  <tbody>\n",
       "    <tr>\n",
       "      <th>count</th>\n",
       "      <td>299.000000</td>\n",
       "      <td>299.000000</td>\n",
       "      <td>299.000000</td>\n",
       "      <td>299.000000</td>\n",
       "      <td>299.000000</td>\n",
       "      <td>2.990000e+02</td>\n",
       "      <td>2.990000e+02</td>\n",
       "      <td>299.000000</td>\n",
       "      <td>299.000000</td>\n",
       "      <td>299.000000</td>\n",
       "      <td>...</td>\n",
       "      <td>299.000000</td>\n",
       "      <td>2.990000e+02</td>\n",
       "      <td>2.990000e+02</td>\n",
       "      <td>299.000000</td>\n",
       "      <td>299.000000</td>\n",
       "      <td>299.000000</td>\n",
       "      <td>299.000000</td>\n",
       "      <td>299.000000</td>\n",
       "      <td>2.990000e+02</td>\n",
       "      <td>2.990000e+02</td>\n",
       "    </tr>\n",
       "    <tr>\n",
       "      <th>mean</th>\n",
       "      <td>2143.761371</td>\n",
       "      <td>2168.767057</td>\n",
       "      <td>2117.974080</td>\n",
       "      <td>2143.821572</td>\n",
       "      <td>2143.167692</td>\n",
       "      <td>8.887711e+05</td>\n",
       "      <td>1.745160e+14</td>\n",
       "      <td>194.891973</td>\n",
       "      <td>197.075753</td>\n",
       "      <td>192.474916</td>\n",
       "      <td>...</td>\n",
       "      <td>1043.030702</td>\n",
       "      <td>3.684102e+06</td>\n",
       "      <td>3.847515e+14</td>\n",
       "      <td>1334.502508</td>\n",
       "      <td>1352.688629</td>\n",
       "      <td>1314.262542</td>\n",
       "      <td>1333.175753</td>\n",
       "      <td>1333.481204</td>\n",
       "      <td>1.452351e+06</td>\n",
       "      <td>1.929843e+14</td>\n",
       "    </tr>\n",
       "    <tr>\n",
       "      <th>std</th>\n",
       "      <td>410.899677</td>\n",
       "      <td>415.209457</td>\n",
       "      <td>405.959346</td>\n",
       "      <td>410.811877</td>\n",
       "      <td>410.279270</td>\n",
       "      <td>6.008330e+05</td>\n",
       "      <td>8.226473e+13</td>\n",
       "      <td>44.718733</td>\n",
       "      <td>45.140896</td>\n",
       "      <td>44.427882</td>\n",
       "      <td>...</td>\n",
       "      <td>94.085013</td>\n",
       "      <td>1.675875e+06</td>\n",
       "      <td>1.817891e+14</td>\n",
       "      <td>100.768718</td>\n",
       "      <td>100.730048</td>\n",
       "      <td>99.079224</td>\n",
       "      <td>99.713093</td>\n",
       "      <td>99.205523</td>\n",
       "      <td>7.033592e+05</td>\n",
       "      <td>9.361878e+13</td>\n",
       "    </tr>\n",
       "    <tr>\n",
       "      <th>min</th>\n",
       "      <td>478.700000</td>\n",
       "      <td>487.900000</td>\n",
       "      <td>476.000000</td>\n",
       "      <td>482.050000</td>\n",
       "      <td>481.890000</td>\n",
       "      <td>3.925400e+04</td>\n",
       "      <td>9.406739e+12</td>\n",
       "      <td>152.500000</td>\n",
       "      <td>155.850000</td>\n",
       "      <td>149.000000</td>\n",
       "      <td>...</td>\n",
       "      <td>823.480000</td>\n",
       "      <td>4.235880e+05</td>\n",
       "      <td>5.394387e+13</td>\n",
       "      <td>1156.100000</td>\n",
       "      <td>1194.800000</td>\n",
       "      <td>1150.000000</td>\n",
       "      <td>1160.650000</td>\n",
       "      <td>1169.910000</td>\n",
       "      <td>7.335200e+04</td>\n",
       "      <td>1.138273e+13</td>\n",
       "    </tr>\n",
       "    <tr>\n",
       "      <th>25%</th>\n",
       "      <td>2079.200000</td>\n",
       "      <td>2110.100000</td>\n",
       "      <td>2052.775000</td>\n",
       "      <td>2083.000000</td>\n",
       "      <td>2083.265000</td>\n",
       "      <td>5.485695e+05</td>\n",
       "      <td>1.141443e+14</td>\n",
       "      <td>169.125000</td>\n",
       "      <td>170.900000</td>\n",
       "      <td>167.050000</td>\n",
       "      <td>...</td>\n",
       "      <td>1000.215000</td>\n",
       "      <td>2.531522e+06</td>\n",
       "      <td>2.669888e+14</td>\n",
       "      <td>1253.175000</td>\n",
       "      <td>1270.875000</td>\n",
       "      <td>1235.500000</td>\n",
       "      <td>1254.050000</td>\n",
       "      <td>1254.165000</td>\n",
       "      <td>9.689265e+05</td>\n",
       "      <td>1.300165e+14</td>\n",
       "    </tr>\n",
       "    <tr>\n",
       "      <th>50%</th>\n",
       "      <td>2230.000000</td>\n",
       "      <td>2264.900000</td>\n",
       "      <td>2205.200000</td>\n",
       "      <td>2232.000000</td>\n",
       "      <td>2226.640000</td>\n",
       "      <td>7.367350e+05</td>\n",
       "      <td>1.584380e+14</td>\n",
       "      <td>176.700000</td>\n",
       "      <td>178.400000</td>\n",
       "      <td>174.000000</td>\n",
       "      <td>...</td>\n",
       "      <td>1051.980000</td>\n",
       "      <td>3.310703e+06</td>\n",
       "      <td>3.370082e+14</td>\n",
       "      <td>1314.000000</td>\n",
       "      <td>1329.500000</td>\n",
       "      <td>1292.000000</td>\n",
       "      <td>1311.500000</td>\n",
       "      <td>1309.890000</td>\n",
       "      <td>1.324664e+06</td>\n",
       "      <td>1.747469e+14</td>\n",
       "    </tr>\n",
       "    <tr>\n",
       "      <th>75%</th>\n",
       "      <td>2354.900000</td>\n",
       "      <td>2380.000000</td>\n",
       "      <td>2329.250000</td>\n",
       "      <td>2355.000000</td>\n",
       "      <td>2355.085000</td>\n",
       "      <td>1.011911e+06</td>\n",
       "      <td>2.094621e+14</td>\n",
       "      <td>194.275000</td>\n",
       "      <td>196.075000</td>\n",
       "      <td>193.000000</td>\n",
       "      <td>...</td>\n",
       "      <td>1108.635000</td>\n",
       "      <td>4.321131e+06</td>\n",
       "      <td>4.636005e+14</td>\n",
       "      <td>1386.500000</td>\n",
       "      <td>1402.750000</td>\n",
       "      <td>1370.000000</td>\n",
       "      <td>1384.750000</td>\n",
       "      <td>1385.440000</td>\n",
       "      <td>1.702507e+06</td>\n",
       "      <td>2.268061e+14</td>\n",
       "    </tr>\n",
       "    <tr>\n",
       "      <th>max</th>\n",
       "      <td>2566.000000</td>\n",
       "      <td>2583.300000</td>\n",
       "      <td>2553.700000</td>\n",
       "      <td>2565.800000</td>\n",
       "      <td>2570.700000</td>\n",
       "      <td>5.354489e+06</td>\n",
       "      <td>4.793651e+14</td>\n",
       "      <td>309.750000</td>\n",
       "      <td>313.450000</td>\n",
       "      <td>309.000000</td>\n",
       "      <td>...</td>\n",
       "      <td>1273.500000</td>\n",
       "      <td>1.167429e+07</td>\n",
       "      <td>1.278359e+15</td>\n",
       "      <td>1595.000000</td>\n",
       "      <td>1608.500000</td>\n",
       "      <td>1571.100000</td>\n",
       "      <td>1588.750000</td>\n",
       "      <td>1587.400000</td>\n",
       "      <td>5.100637e+06</td>\n",
       "      <td>7.278991e+14</td>\n",
       "    </tr>\n",
       "  </tbody>\n",
       "</table>\n",
       "<p>8 rows × 35 columns</p>\n",
       "</div>"
      ],
      "text/plain": [
       "       Open-Stock-1  High-Stock-1  Low-Stock-1  Close-Stock-1  VWAP-Stock-1  \\\n",
       "count    299.000000    299.000000   299.000000     299.000000    299.000000   \n",
       "mean    2143.761371   2168.767057  2117.974080    2143.821572   2143.167692   \n",
       "std      410.899677    415.209457   405.959346     410.811877    410.279270   \n",
       "min      478.700000    487.900000   476.000000     482.050000    481.890000   \n",
       "25%     2079.200000   2110.100000  2052.775000    2083.000000   2083.265000   \n",
       "50%     2230.000000   2264.900000  2205.200000    2232.000000   2226.640000   \n",
       "75%     2354.900000   2380.000000  2329.250000    2355.000000   2355.085000   \n",
       "max     2566.000000   2583.300000  2553.700000    2565.800000   2570.700000   \n",
       "\n",
       "       Volume-Stock-1  Turnover-Stock-1  Open-Stock-2  High-Stock-2  \\\n",
       "count    2.990000e+02      2.990000e+02    299.000000    299.000000   \n",
       "mean     8.887711e+05      1.745160e+14    194.891973    197.075753   \n",
       "std      6.008330e+05      8.226473e+13     44.718733     45.140896   \n",
       "min      3.925400e+04      9.406739e+12    152.500000    155.850000   \n",
       "25%      5.485695e+05      1.141443e+14    169.125000    170.900000   \n",
       "50%      7.367350e+05      1.584380e+14    176.700000    178.400000   \n",
       "75%      1.011911e+06      2.094621e+14    194.275000    196.075000   \n",
       "max      5.354489e+06      4.793651e+14    309.750000    313.450000   \n",
       "\n",
       "       Low-Stock-2  ...  VWAP-Stock-4  Volume-Stock-4  Turnover-Stock-4  \\\n",
       "count   299.000000  ...    299.000000    2.990000e+02      2.990000e+02   \n",
       "mean    192.474916  ...   1043.030702    3.684102e+06      3.847515e+14   \n",
       "std      44.427882  ...     94.085013    1.675875e+06      1.817891e+14   \n",
       "min     149.000000  ...    823.480000    4.235880e+05      5.394387e+13   \n",
       "25%     167.050000  ...   1000.215000    2.531522e+06      2.669888e+14   \n",
       "50%     174.000000  ...   1051.980000    3.310703e+06      3.370082e+14   \n",
       "75%     193.000000  ...   1108.635000    4.321131e+06      4.636005e+14   \n",
       "max     309.000000  ...   1273.500000    1.167429e+07      1.278359e+15   \n",
       "\n",
       "       Open-Stock-5  High-Stock-5  Low-Stock-5  Close-Stock-5  VWAP-Stock-5  \\\n",
       "count    299.000000    299.000000   299.000000     299.000000    299.000000   \n",
       "mean    1334.502508   1352.688629  1314.262542    1333.175753   1333.481204   \n",
       "std      100.768718    100.730048    99.079224      99.713093     99.205523   \n",
       "min     1156.100000   1194.800000  1150.000000    1160.650000   1169.910000   \n",
       "25%     1253.175000   1270.875000  1235.500000    1254.050000   1254.165000   \n",
       "50%     1314.000000   1329.500000  1292.000000    1311.500000   1309.890000   \n",
       "75%     1386.500000   1402.750000  1370.000000    1384.750000   1385.440000   \n",
       "max     1595.000000   1608.500000  1571.100000    1588.750000   1587.400000   \n",
       "\n",
       "       Volume-Stock-5  Turnover-Stock-5  \n",
       "count    2.990000e+02      2.990000e+02  \n",
       "mean     1.452351e+06      1.929843e+14  \n",
       "std      7.033592e+05      9.361878e+13  \n",
       "min      7.335200e+04      1.138273e+13  \n",
       "25%      9.689265e+05      1.300165e+14  \n",
       "50%      1.324664e+06      1.747469e+14  \n",
       "75%      1.702507e+06      2.268061e+14  \n",
       "max      5.100637e+06      7.278991e+14  \n",
       "\n",
       "[8 rows x 35 columns]"
      ]
     },
     "execution_count": 7,
     "metadata": {},
     "output_type": "execute_result"
    }
   ],
   "source": [
    "train_data.describe()"
   ]
  },
  {
   "cell_type": "markdown",
   "metadata": {},
   "source": [
    "#### Null value check"
   ]
  },
  {
   "cell_type": "code",
   "execution_count": 8,
   "metadata": {},
   "outputs": [
    {
     "data": {
      "text/plain": [
       "Date                0\n",
       "Open-Stock-1        0\n",
       "High-Stock-1        0\n",
       "Low-Stock-1         0\n",
       "Close-Stock-1       0\n",
       "VWAP-Stock-1        0\n",
       "Volume-Stock-1      0\n",
       "Turnover-Stock-1    0\n",
       "Open-Stock-2        0\n",
       "High-Stock-2        0\n",
       "Low-Stock-2         0\n",
       "Close-Stock-2       0\n",
       "VWAP-Stock-2        0\n",
       "Volume-Stock-2      0\n",
       "Turnover-Stock-2    0\n",
       "Open-Stock-3        0\n",
       "High-Stock-3        0\n",
       "Low-Stock-3         0\n",
       "Close-Stock-3       0\n",
       "VWAP-Stock-3        0\n",
       "Volume-Stock-3      0\n",
       "Turnover-Stock-3    0\n",
       "Open-Stock-4        0\n",
       "High-Stock-4        0\n",
       "Low-Stock-4         0\n",
       "Close-Stock-4       0\n",
       "VWAP-Stock-4        0\n",
       "Volume-Stock-4      0\n",
       "Turnover-Stock-4    0\n",
       "Open-Stock-5        0\n",
       "High-Stock-5        0\n",
       "Low-Stock-5         0\n",
       "Close-Stock-5       0\n",
       "VWAP-Stock-5        0\n",
       "Volume-Stock-5      0\n",
       "Turnover-Stock-5    0\n",
       "dtype: int64"
      ]
     },
     "execution_count": 8,
     "metadata": {},
     "output_type": "execute_result"
    }
   ],
   "source": [
    "cols = train_data.columns\n",
    "import math\n",
    "train_data[cols].isnull().sum()"
   ]
  },
  {
   "cell_type": "markdown",
   "metadata": {},
   "source": [
    "#### Outlier check"
   ]
  },
  {
   "cell_type": "code",
   "execution_count": 9,
   "metadata": {},
   "outputs": [
    {
     "data": {
      "text/plain": [
       "Index(['Date', 'Open-Stock-1', 'High-Stock-1', 'Low-Stock-1', 'Close-Stock-1',\n",
       "       'VWAP-Stock-1', 'Volume-Stock-1', 'Turnover-Stock-1', 'Open-Stock-2',\n",
       "       'High-Stock-2', 'Low-Stock-2', 'Close-Stock-2', 'VWAP-Stock-2',\n",
       "       'Volume-Stock-2', 'Turnover-Stock-2', 'Open-Stock-3', 'High-Stock-3',\n",
       "       'Low-Stock-3', 'Close-Stock-3', 'VWAP-Stock-3', 'Volume-Stock-3',\n",
       "       'Turnover-Stock-3', 'Open-Stock-4', 'High-Stock-4', 'Low-Stock-4',\n",
       "       'Close-Stock-4', 'VWAP-Stock-4', 'Volume-Stock-4', 'Turnover-Stock-4',\n",
       "       'Open-Stock-5', 'High-Stock-5', 'Low-Stock-5', 'Close-Stock-5',\n",
       "       'VWAP-Stock-5', 'Volume-Stock-5', 'Turnover-Stock-5'],\n",
       "      dtype='object')"
      ]
     },
     "execution_count": 9,
     "metadata": {},
     "output_type": "execute_result"
    }
   ],
   "source": [
    "cols"
   ]
  },
  {
   "cell_type": "code",
   "execution_count": 10,
   "metadata": {},
   "outputs": [
    {
     "data": {
      "text/plain": [
       "<matplotlib.axes._subplots.AxesSubplot at 0x18c342b7670>"
      ]
     },
     "execution_count": 10,
     "metadata": {},
     "output_type": "execute_result"
    },
    {
     "data": {
      "image/png": "[encoded data removed]",
      "text/plain": [
       "<Figure size 1080x1080 with 35 Axes>"
      ]
     },
     "metadata": {
      "needs_background": "light"
     },
     "output_type": "display_data"
    }
   ],
   "source": [
    "plt.figure(figsize = (15,15))\n",
    "\n",
    "plt.subplot(35,1,1)\n",
    "sns.boxplot(x = train_data['Open-Stock-1'])\n",
    "plt.subplot(35,1,2)\n",
    "sns.boxplot(x = train_data['High-Stock-1'])\n",
    "plt.subplot(35,1,3)\n",
    "sns.boxplot(x = train_data['Low-Stock-1'])\n",
    "plt.subplot(35,1,4)\n",
    "sns.boxplot(x = train_data['Close-Stock-1'])\n",
    "plt.subplot(35,1,5)\n",
    "sns.boxplot(x = train_data['VWAP-Stock-1'])\n",
    "plt.subplot(35,1,6)\n",
    "sns.boxplot(x = train_data['Volume-Stock-1'])\n",
    "plt.subplot(35,1,7)\n",
    "sns.boxplot(x = train_data['Turnover-Stock-1'])\n",
    "plt.subplot(35,1,8)\n",
    "sns.boxplot(x = train_data['Open-Stock-2'] )\n",
    "plt.subplot(35,1,9)\n",
    "sns.boxplot(x = train_data['High-Stock-2'])\n",
    "plt.subplot(35,1,10)\n",
    "sns.boxplot(x = train_data['Low-Stock-2'])\n",
    "plt.subplot(35,1,11)\n",
    "sns.boxplot(x = train_data['Close-Stock-2'])\n",
    "plt.subplot(35,1,12)\n",
    "sns.boxplot(x = train_data['VWAP-Stock-2'])\n",
    "plt.subplot(35,1,13)\n",
    "sns.boxplot(x = train_data['Volume-Stock-2'])\n",
    "plt.subplot(35,1,14)\n",
    "sns.boxplot(x = train_data['Turnover-Stock-2'])\n",
    "plt.subplot(35,1,15)\n",
    "sns.boxplot(x = train_data['Open-Stock-3'] )\n",
    "plt.subplot(35,1,16)\n",
    "sns.boxplot(x = train_data['High-Stock-3'])\n",
    "plt.subplot(35,1,17)\n",
    "sns.boxplot(x = train_data['Low-Stock-3'])\n",
    "plt.subplot(35,1,18)\n",
    "sns.boxplot(x = train_data['Close-Stock-3'])\n",
    "plt.subplot(35,1,19)\n",
    "sns.boxplot(x = train_data['VWAP-Stock-3'])\n",
    "plt.subplot(35,1,20)\n",
    "sns.boxplot(x = train_data['Volume-Stock-3'])\n",
    "plt.subplot(35,1,21)\n",
    "sns.boxplot(x = train_data['Turnover-Stock-3'])\n",
    "plt.subplot(35,1,22)\n",
    "sns.boxplot(x = train_data['Open-Stock-4'] )\n",
    "plt.subplot(35,1,23)\n",
    "sns.boxplot(x = train_data['High-Stock-4'])\n",
    "plt.subplot(35,1,24)\n",
    "sns.boxplot(x = train_data['Low-Stock-4'])\n",
    "plt.subplot(35,1,25)\n",
    "sns.boxplot(x = train_data['Close-Stock-4'])\n",
    "plt.subplot(35,1,26)\n",
    "sns.boxplot(x = train_data['VWAP-Stock-4'])\n",
    "plt.subplot(35,1,27)\n",
    "sns.boxplot(x = train_data['Volume-Stock-4'])\n",
    "plt.subplot(35,1,28)\n",
    "sns.boxplot(x = train_data['Turnover-Stock-4'])\n",
    "plt.subplot(35,1,29)\n",
    "sns.boxplot(x = train_data['Open-Stock-5'] )\n",
    "plt.subplot(35,1,30)\n",
    "sns.boxplot(x = train_data['High-Stock-5'])\n",
    "plt.subplot(35,1,31)\n",
    "sns.boxplot(x = train_data['Low-Stock-5'])\n",
    "plt.subplot(35,1,32)\n",
    "sns.boxplot(x = train_data['Close-Stock-5'])\n",
    "plt.subplot(35,1,33)\n",
    "sns.boxplot(x = train_data['VWAP-Stock-5'])\n",
    "plt.subplot(35,1,34)\n",
    "sns.boxplot(x = train_data['Volume-Stock-5'])\n",
    "plt.subplot(35,1,35)\n",
    "sns.boxplot(x = train_data['Turnover-Stock-5'])\n",
    "\n",
    "\n"
   ]
  },
  {
   "cell_type": "code",
   "execution_count": 11,
   "metadata": {},
   "outputs": [
    {
     "data": {
      "image/png": "[encoded data removed]",
      "text/plain": [
       "<Figure size 432x288 with 1 Axes>"
      ]
     },
     "metadata": {
      "needs_background": "light"
     },
     "output_type": "display_data"
    }
   ],
   "source": [
    "sns.distplot(train_data['Close-Stock-1'])\n",
    "plt.show()"
   ]
  },
  {
   "cell_type": "code",
   "execution_count": 12,
   "metadata": {},
   "outputs": [
    {
     "data": {
      "image/png": "[encoded data removed]",
      "text/plain": [
       "<Figure size 432x288 with 1 Axes>"
      ]
     },
     "metadata": {
      "needs_background": "light"
     },
     "output_type": "display_data"
    },
    {
     "data": {
      "image/png": "[encoded data removed]",
      "text/plain": [
       "<Figure size 432x288 with 1 Axes>"
      ]
     },
     "metadata": {
      "needs_background": "light"
     },
     "output_type": "display_data"
    },
    {
     "data": {
      "image/png": "[encoded data removed]",
      "text/plain": [
       "<Figure size 432x288 with 1 Axes>"
      ]
     },
     "metadata": {
      "needs_background": "light"
     },
     "output_type": "display_data"
    },
    {
     "data": {
      "image/png": "[encoded data removed]",
      "text/plain": [
       "<Figure size 432x288 with 1 Axes>"
      ]
     },
     "metadata": {
      "needs_background": "light"
     },
     "output_type": "display_data"
    }
   ],
   "source": [
    "sns.distplot(train_data['Close-Stock-2'])\n",
    "plt.show()\n",
    "sns.distplot(train_data['Close-Stock-3'])\n",
    "plt.show()\n",
    "sns.distplot(train_data['Close-Stock-4'])\n",
    "plt.show()\n",
    "sns.distplot(train_data['Close-Stock-5'])\n",
    "plt.show()"
   ]
  },
  {
   "cell_type": "code",
   "execution_count": 13,
   "metadata": {},
   "outputs": [
    {
     "data": {
      "text/plain": [
       "Index(['Date', 'Open-Stock-1', 'High-Stock-1', 'Low-Stock-1', 'VWAP-Stock-1',\n",
       "       'Volume-Stock-1', 'Turnover-Stock-1', 'Open-Stock-2', 'High-Stock-2',\n",
       "       'Low-Stock-2', 'VWAP-Stock-2', 'Volume-Stock-2', 'Turnover-Stock-2',\n",
       "       'Open-Stock-3', 'High-Stock-3', 'Low-Stock-3', 'VWAP-Stock-3',\n",
       "       'Volume-Stock-3', 'Turnover-Stock-3', 'Open-Stock-4', 'High-Stock-4',\n",
       "       'Low-Stock-4', 'VWAP-Stock-4', 'Volume-Stock-4', 'Turnover-Stock-4',\n",
       "       'Open-Stock-5', 'High-Stock-5', 'Low-Stock-5', 'VWAP-Stock-5',\n",
       "       'Volume-Stock-5', 'Turnover-Stock-5'],\n",
       "      dtype='object')"
      ]
     },
     "execution_count": 13,
     "metadata": {},
     "output_type": "execute_result"
    }
   ],
   "source": [
    "test_cols = test_data.columns\n",
    "test_cols"
   ]
  },
  {
   "cell_type": "code",
   "execution_count": 14,
   "metadata": {},
   "outputs": [],
   "source": [
    "features = train_data.drop(['Date','Close-Stock-1','Close-Stock-2','Close-Stock-3','Close-Stock-4','Close-Stock-5' ], axis = 1)\n",
    "target = train_data[['Close-Stock-1','Close-Stock-2','Close-Stock-3','Close-Stock-4','Close-Stock-5' ]]\n",
    "test_features = test_data.drop('Date', axis = 1)"
   ]
  },
  {
   "cell_type": "code",
   "execution_count": 15,
   "metadata": {},
   "outputs": [],
   "source": [
    "from sklearn.preprocessing import StandardScaler\n",
    "scaler = StandardScaler()\n",
    "scaled_trained_features = scaler.fit_transform(features)\n",
    "scaled_test_features = scaler.fit_transform(test_features)"
   ]
  },
  {
   "cell_type": "code",
   "execution_count": 16,
   "metadata": {},
   "outputs": [],
   "source": [
    "scaled_train_data = pd.DataFrame(scaled_trained_features, columns = features.columns)\n",
    "scaled_testing_data = pd.DataFrame(scaled_test_features, columns = test_features.columns )\n"
   ]
  },
  {
   "cell_type": "code",
   "execution_count": 17,
   "metadata": {},
   "outputs": [
    {
     "data": {
      "text/html": [
       "<div>\n",
       "<style scoped>\n",
       "    .dataframe tbody tr th:only-of-type {\n",
       "        vertical-align: middle;\n",
       "    }\n",
       "\n",
       "    .dataframe tbody tr th {\n",
       "        vertical-align: top;\n",
       "    }\n",
       "\n",
       "    .dataframe thead th {\n",
       "        text-align: right;\n",
       "    }\n",
       "</style>\n",
       "<table border=\"1\" class=\"dataframe\">\n",
       "  <thead>\n",
       "    <tr style=\"text-align: right;\">\n",
       "      <th></th>\n",
       "      <th>Open-Stock-1</th>\n",
       "      <th>High-Stock-1</th>\n",
       "      <th>Low-Stock-1</th>\n",
       "      <th>VWAP-Stock-1</th>\n",
       "      <th>Volume-Stock-1</th>\n",
       "      <th>Turnover-Stock-1</th>\n",
       "      <th>Open-Stock-2</th>\n",
       "      <th>High-Stock-2</th>\n",
       "      <th>Low-Stock-2</th>\n",
       "      <th>VWAP-Stock-2</th>\n",
       "      <th>...</th>\n",
       "      <th>Low-Stock-4</th>\n",
       "      <th>VWAP-Stock-4</th>\n",
       "      <th>Volume-Stock-4</th>\n",
       "      <th>Turnover-Stock-4</th>\n",
       "      <th>Open-Stock-5</th>\n",
       "      <th>High-Stock-5</th>\n",
       "      <th>Low-Stock-5</th>\n",
       "      <th>VWAP-Stock-5</th>\n",
       "      <th>Volume-Stock-5</th>\n",
       "      <th>Turnover-Stock-5</th>\n",
       "    </tr>\n",
       "  </thead>\n",
       "  <tbody>\n",
       "    <tr>\n",
       "      <th>0</th>\n",
       "      <td>1.089541</td>\n",
       "      <td>1.078021</td>\n",
       "      <td>1.044954</td>\n",
       "      <td>1.035975</td>\n",
       "      <td>-0.786650</td>\n",
       "      <td>-0.759178</td>\n",
       "      <td>0.592791</td>\n",
       "      <td>0.557687</td>\n",
       "      <td>0.052186</td>\n",
       "      <td>0.285729</td>\n",
       "      <td>...</td>\n",
       "      <td>2.172978</td>\n",
       "      <td>2.164287</td>\n",
       "      <td>-0.703987</td>\n",
       "      <td>-0.582065</td>\n",
       "      <td>2.461766</td>\n",
       "      <td>2.346542</td>\n",
       "      <td>2.464607</td>\n",
       "      <td>2.404587</td>\n",
       "      <td>-0.950787</td>\n",
       "      <td>-0.479984</td>\n",
       "    </tr>\n",
       "    <tr>\n",
       "      <th>1</th>\n",
       "      <td>0.112629</td>\n",
       "      <td>0.370952</td>\n",
       "      <td>0.141481</td>\n",
       "      <td>0.433626</td>\n",
       "      <td>-0.228659</td>\n",
       "      <td>-0.196709</td>\n",
       "      <td>-1.125981</td>\n",
       "      <td>-1.056971</td>\n",
       "      <td>-1.398884</td>\n",
       "      <td>-1.159132</td>\n",
       "      <td>...</td>\n",
       "      <td>1.665724</td>\n",
       "      <td>1.634833</td>\n",
       "      <td>-0.124316</td>\n",
       "      <td>0.149321</td>\n",
       "      <td>1.867043</td>\n",
       "      <td>1.746143</td>\n",
       "      <td>1.645263</td>\n",
       "      <td>1.725585</td>\n",
       "      <td>1.001147</td>\n",
       "      <td>1.656767</td>\n",
       "    </tr>\n",
       "    <tr>\n",
       "      <th>2</th>\n",
       "      <td>0.010335</td>\n",
       "      <td>0.597646</td>\n",
       "      <td>0.189431</td>\n",
       "      <td>0.195635</td>\n",
       "      <td>0.256050</td>\n",
       "      <td>0.290703</td>\n",
       "      <td>-1.316956</td>\n",
       "      <td>-1.093877</td>\n",
       "      <td>-1.540655</td>\n",
       "      <td>-1.153794</td>\n",
       "      <td>...</td>\n",
       "      <td>1.455213</td>\n",
       "      <td>1.530234</td>\n",
       "      <td>-0.483255</td>\n",
       "      <td>-0.345102</td>\n",
       "      <td>1.463119</td>\n",
       "      <td>1.878569</td>\n",
       "      <td>1.650826</td>\n",
       "      <td>1.763956</td>\n",
       "      <td>-0.837256</td>\n",
       "      <td>-0.467033</td>\n",
       "    </tr>\n",
       "    <tr>\n",
       "      <th>3</th>\n",
       "      <td>-0.654579</td>\n",
       "      <td>0.249508</td>\n",
       "      <td>-0.224450</td>\n",
       "      <td>-0.023401</td>\n",
       "      <td>0.332840</td>\n",
       "      <td>0.352567</td>\n",
       "      <td>-1.950644</td>\n",
       "      <td>-0.300388</td>\n",
       "      <td>-1.465600</td>\n",
       "      <td>-0.669801</td>\n",
       "      <td>...</td>\n",
       "      <td>1.164176</td>\n",
       "      <td>1.347375</td>\n",
       "      <td>0.086616</td>\n",
       "      <td>0.381828</td>\n",
       "      <td>1.313931</td>\n",
       "      <td>1.604755</td>\n",
       "      <td>1.452060</td>\n",
       "      <td>1.495453</td>\n",
       "      <td>1.618952</td>\n",
       "      <td>2.274421</td>\n",
       "    </tr>\n",
       "    <tr>\n",
       "      <th>4</th>\n",
       "      <td>1.636816</td>\n",
       "      <td>1.396473</td>\n",
       "      <td>0.964196</td>\n",
       "      <td>0.881176</td>\n",
       "      <td>-0.181911</td>\n",
       "      <td>-0.121996</td>\n",
       "      <td>0.089312</td>\n",
       "      <td>-0.161989</td>\n",
       "      <td>-0.481541</td>\n",
       "      <td>-0.410011</td>\n",
       "      <td>...</td>\n",
       "      <td>1.763370</td>\n",
       "      <td>1.675989</td>\n",
       "      <td>-0.504589</td>\n",
       "      <td>-0.357172</td>\n",
       "      <td>1.836597</td>\n",
       "      <td>1.758091</td>\n",
       "      <td>1.901182</td>\n",
       "      <td>1.855589</td>\n",
       "      <td>-0.532153</td>\n",
       "      <td>-0.091546</td>\n",
       "    </tr>\n",
       "  </tbody>\n",
       "</table>\n",
       "<p>5 rows × 30 columns</p>\n",
       "</div>"
      ],
      "text/plain": [
       "   Open-Stock-1  High-Stock-1  Low-Stock-1  VWAP-Stock-1  Volume-Stock-1  \\\n",
       "0      1.089541      1.078021     1.044954      1.035975       -0.786650   \n",
       "1      0.112629      0.370952     0.141481      0.433626       -0.228659   \n",
       "2      0.010335      0.597646     0.189431      0.195635        0.256050   \n",
       "3     -0.654579      0.249508    -0.224450     -0.023401        0.332840   \n",
       "4      1.636816      1.396473     0.964196      0.881176       -0.181911   \n",
       "\n",
       "   Turnover-Stock-1  Open-Stock-2  High-Stock-2  Low-Stock-2  VWAP-Stock-2  \\\n",
       "0         -0.759178      0.592791      0.557687     0.052186      0.285729   \n",
       "1         -0.196709     -1.125981     -1.056971    -1.398884     -1.159132   \n",
       "2          0.290703     -1.316956     -1.093877    -1.540655     -1.153794   \n",
       "3          0.352567     -1.950644     -0.300388    -1.465600     -0.669801   \n",
       "4         -0.121996      0.089312     -0.161989    -0.481541     -0.410011   \n",
       "\n",
       "   ...  Low-Stock-4  VWAP-Stock-4  Volume-Stock-4  Turnover-Stock-4  \\\n",
       "0  ...     2.172978      2.164287       -0.703987         -0.582065   \n",
       "1  ...     1.665724      1.634833       -0.124316          0.149321   \n",
       "2  ...     1.455213      1.530234       -0.483255         -0.345102   \n",
       "3  ...     1.164176      1.347375        0.086616          0.381828   \n",
       "4  ...     1.763370      1.675989       -0.504589         -0.357172   \n",
       "\n",
       "   Open-Stock-5  High-Stock-5  Low-Stock-5  VWAP-Stock-5  Volume-Stock-5  \\\n",
       "0      2.461766      2.346542     2.464607      2.404587       -0.950787   \n",
       "1      1.867043      1.746143     1.645263      1.725585        1.001147   \n",
       "2      1.463119      1.878569     1.650826      1.763956       -0.837256   \n",
       "3      1.313931      1.604755     1.452060      1.495453        1.618952   \n",
       "4      1.836597      1.758091     1.901182      1.855589       -0.532153   \n",
       "\n",
       "   Turnover-Stock-5  \n",
       "0         -0.479984  \n",
       "1          1.656767  \n",
       "2         -0.467033  \n",
       "3          2.274421  \n",
       "4         -0.091546  \n",
       "\n",
       "[5 rows x 30 columns]"
      ]
     },
     "execution_count": 17,
     "metadata": {},
     "output_type": "execute_result"
    }
   ],
   "source": [
    "scaled_testing_data.head()"
   ]
  },
  {
   "cell_type": "code",
   "execution_count": 18,
   "metadata": {},
   "outputs": [
    {
     "name": "stdout",
     "output_type": "stream",
     "text": [
      "(299, 30) (299, 5)\n"
     ]
    }
   ],
   "source": [
    "X = features\n",
    "y = target\n",
    "print(X.shape, y.shape)"
   ]
  },
  {
   "cell_type": "code",
   "execution_count": 19,
   "metadata": {},
   "outputs": [
    {
     "name": "stdout",
     "output_type": "stream",
     "text": [
      "(239, 30) (60, 30) (239, 5) (60, 5)\n"
     ]
    }
   ],
   "source": [
    "from sklearn.model_selection import train_test_split\n",
    "\n",
    "X_train, X_test, y_train, y_test = train_test_split(X,y, test_size = 0.2, random_state = 10)\n",
    "print(X_train.shape, X_test.shape, y_train.shape, y_test.shape)"
   ]
  },
  {
   "cell_type": "code",
   "execution_count": 20,
   "metadata": {},
   "outputs": [
    {
     "data": {
      "text/plain": [
       "LinearRegression()"
      ]
     },
     "execution_count": 20,
     "metadata": {},
     "output_type": "execute_result"
    }
   ],
   "source": [
    "from sklearn.linear_model import LinearRegression\n",
    "linear_model = LinearRegression()\n",
    "training_linear_model = linear_model.fit(X_train, y_train)\n",
    "training_linear_model"
   ]
  },
  {
   "cell_type": "code",
   "execution_count": 21,
   "metadata": {},
   "outputs": [],
   "source": [
    "linear_preds = linear_model.predict(X_test)"
   ]
  },
  {
   "cell_type": "code",
   "execution_count": 22,
   "metadata": {},
   "outputs": [
    {
     "data": {
      "text/plain": [
       "129.61590777923658"
      ]
     },
     "execution_count": 22,
     "metadata": {},
     "output_type": "execute_result"
    }
   ],
   "source": [
    "mean_squared_error(y_test,linear_preds)"
   ]
  },
  {
   "cell_type": "code",
   "execution_count": 23,
   "metadata": {},
   "outputs": [
    {
     "name": "stdout",
     "output_type": "stream",
     "text": [
      "rmse:  11.384898233152397\n"
     ]
    }
   ],
   "source": [
    "from math import sqrt\n",
    "print('rmse: ', sqrt(mean_squared_error(y_test,linear_preds)))"
   ]
  },
  {
   "cell_type": "code",
   "execution_count": 24,
   "metadata": {
    "scrolled": true
   },
   "outputs": [
    {
     "data": {
      "text/plain": [
       "array([[1917.6303458 ,  303.09390382, 2336.64710383,  840.99246543,\n",
       "        1240.11710456],\n",
       "       [2130.74703163,  159.9239056 , 2695.69843972,  965.76058199,\n",
       "        1327.42461349],\n",
       "       [2323.85762868,  171.27390641, 2624.90880646, 1123.76828878,\n",
       "        1464.17174501],\n",
       "       [2021.2716362 ,  162.54945926, 2557.1859397 , 1014.62329873,\n",
       "        1249.06995484],\n",
       "       [ 510.69155531,  201.57079808, 3154.30066166, 1067.20895452,\n",
       "        1273.62883917],\n",
       "       [2172.99041021,  166.71078668, 2701.90694309, 1077.26101686,\n",
       "        1293.043841  ],\n",
       "       [2199.33517479,  171.809562  , 2525.99602554, 1015.15506803,\n",
       "        1277.06579267],\n",
       "       [2355.57733744,  171.13533547, 2703.11989918, 1169.37617019,\n",
       "        1420.06649442],\n",
       "       [ 496.4620894 ,  202.16880048, 3120.71207708, 1044.36807912,\n",
       "        1315.83469689],\n",
       "       [2570.17401889,  201.78522008, 3203.47861528, 1067.636438  ,\n",
       "        1313.04245745],\n",
       "       [2278.97649968,  190.28551036, 2789.84933867, 1085.40642761,\n",
       "        1251.98519138],\n",
       "       [2114.3963797 ,  308.68991599, 2629.81308577,  909.02997305,\n",
       "        1348.2635847 ],\n",
       "       [2134.40406354,  173.59990556, 2508.63689847, 1014.06817765,\n",
       "        1285.07836332],\n",
       "       [2357.38270421,  195.86692493, 3119.03660977, 1048.26669662,\n",
       "        1274.0053987 ],\n",
       "       [ 492.69894663,  200.2155153 , 3129.96388785, 1028.85873735,\n",
       "        1298.95939874],\n",
       "       [1937.75408064,  301.64282505, 2341.04229857,  843.08860827,\n",
       "        1237.90839285],\n",
       "       [2134.11149647,  164.56649551, 2776.88588489,  962.83849623,\n",
       "        1293.89094553],\n",
       "       [2395.40340697,  192.94424535, 3143.62186805, 1073.80875036,\n",
       "        1279.36553095],\n",
       "       [2310.56801137,  166.51927817, 2580.30529898, 1158.50473849,\n",
       "        1334.35777204],\n",
       "       [2503.41470705,  201.45155259, 3186.99048653, 1089.28602574,\n",
       "        1289.4642873 ],\n",
       "       [2068.17700469,  153.90309359, 2644.67821713,  972.83306703,\n",
       "        1307.8910524 ],\n",
       "       [2065.42390023,  152.36188015, 2416.02599931,  958.80393241,\n",
       "        1191.64487529],\n",
       "       [2252.8641264 ,  184.71235307, 2719.83506324, 1053.15030326,\n",
       "        1229.9484271 ],\n",
       "       [2307.37268516,  171.76570363, 2625.404078  , 1149.30025613,\n",
       "        1386.41917086],\n",
       "       [2341.07375066,  168.87037576, 2592.81788732, 1115.62092489,\n",
       "        1463.28459566],\n",
       "       [2387.42325308,  176.39378994, 2731.68540675, 1267.86056123,\n",
       "        1560.5967696 ],\n",
       "       [2142.58999952,  155.94336333, 2511.47823474, 1015.7914874 ,\n",
       "        1271.69504757],\n",
       "       [2479.93608211,  202.63178255, 3099.858422  , 1050.07683837,\n",
       "        1261.84935691],\n",
       "       [2344.95882003,  169.76984456, 2656.49601923, 1213.01428528,\n",
       "        1458.3651742 ],\n",
       "       [2381.70691434,  169.41699236, 2661.99535049, 1179.41420924,\n",
       "        1402.95007004],\n",
       "       [2111.27505505,  156.31670892, 2629.02416387,  955.82281603,\n",
       "        1325.42888653],\n",
       "       [2171.78876806,  157.19192129, 2583.57509927, 1058.96662883,\n",
       "        1308.42816125],\n",
       "       [1955.49825785,  303.16806166, 2341.26296503,  854.57516509,\n",
       "        1259.25613853],\n",
       "       [2102.45499398,  172.45506461, 2668.31531926, 1046.61116557,\n",
       "        1299.81946799],\n",
       "       [2211.30948251,  157.28499081, 2604.77321522, 1047.01758792,\n",
       "        1307.55174972],\n",
       "       [2390.05325086,  176.20674663, 2660.58855576, 1258.84625538,\n",
       "        1546.2441748 ],\n",
       "       [2385.11890515,  193.2041059 , 3198.24778652, 1060.51856029,\n",
       "        1250.11082778],\n",
       "       [2343.03068536,  192.48176007, 2656.82115703, 1107.21424466,\n",
       "        1338.91748991],\n",
       "       [2236.64683179,  168.32894743, 2728.88598529, 1114.38830643,\n",
       "        1295.50073724],\n",
       "       [2109.28942029,  156.59182815, 2602.13570344, 1057.09373797,\n",
       "        1273.39406715],\n",
       "       [2396.34431367,  168.23352388, 2829.77646238, 1116.45122343,\n",
       "        1502.46605567],\n",
       "       [2188.88571584,  166.17468491, 2869.17188807, 1035.50026376,\n",
       "        1390.84444784],\n",
       "       [2397.84587055,  171.61562583, 2666.56549573, 1119.744058  ,\n",
       "        1562.0237608 ],\n",
       "       [2526.69967944,  202.51875161, 3161.3445242 , 1046.94375988,\n",
       "        1267.61362852],\n",
       "       [2295.2816351 ,  181.52824825, 2710.47043172, 1083.5680412 ,\n",
       "        1257.71644004],\n",
       "       [2103.45805243,  158.37616841, 2546.67295683, 1033.97458801,\n",
       "        1264.24336653],\n",
       "       [2199.72577652,  166.33046304, 2694.26736023, 1097.40305405,\n",
       "        1309.49887142],\n",
       "       [2257.55658347,  167.87299441, 2503.74109542, 1097.78193643,\n",
       "        1434.07736874],\n",
       "       [2044.71877454,  293.67819646, 2486.36465841,  900.38999115,\n",
       "        1350.89418213],\n",
       "       [1966.32429835,  291.08693312, 2302.90060569,  849.91084417,\n",
       "        1243.5456546 ],\n",
       "       [2360.25079583,  169.69622733, 2614.09516831, 1093.3306033 ,\n",
       "        1463.80430407],\n",
       "       [2568.13873433,  200.7426627 , 3207.3186628 , 1077.75485529,\n",
       "        1328.19098572],\n",
       "       [2039.29233604,  154.72720932, 2500.36975597, 1009.12580232,\n",
       "        1234.36140635],\n",
       "       [2349.86294389,  191.71547984, 3084.24084976, 1028.54801038,\n",
       "        1231.72396432],\n",
       "       [2226.44947118,  172.68003958, 2530.00475441, 1027.06986736,\n",
       "        1329.37957133],\n",
       "       [2227.69179706,  183.47609115, 2689.49554947, 1037.5749156 ,\n",
       "        1213.44710514],\n",
       "       [2043.64935734,  156.30297934, 2508.15947835,  983.88575076,\n",
       "        1224.31251636],\n",
       "       [2203.11784981,  160.21785242, 2768.88498849, 1001.19053594,\n",
       "        1375.52222755],\n",
       "       [2178.40632424,  161.00379196, 2664.42324836,  964.11331473,\n",
       "        1337.21741491],\n",
       "       [2051.68609394,  292.42751343, 2459.91653298,  891.38387505,\n",
       "        1374.31318741]])"
      ]
     },
     "execution_count": 24,
     "metadata": {},
     "output_type": "execute_result"
    }
   ],
   "source": [
    "linear_preds"
   ]
  },
  {
   "cell_type": "code",
   "execution_count": 25,
   "metadata": {},
   "outputs": [],
   "source": [
    "linear_test_preds = linear_model.predict(test_features)"
   ]
  },
  {
   "cell_type": "code",
   "execution_count": 26,
   "metadata": {},
   "outputs": [
    {
     "data": {
      "text/plain": [
       "(97, 5)"
      ]
     },
     "execution_count": 26,
     "metadata": {},
     "output_type": "execute_result"
    }
   ],
   "source": [
    "a = list(linear_test_preds)\n",
    "pred = pd.DataFrame(a, columns = ['Close-Stock-1','Close-Stock-2','Close-Stock-3','Close-Stock-4','Close-Stock-5' ])\n",
    "pred.shape"
   ]
  },
  {
   "cell_type": "code",
   "execution_count": 27,
   "metadata": {},
   "outputs": [],
   "source": [
    "linear_predictions_output = test_data.drop(['Open-Stock-1', 'High-Stock-1', 'Low-Stock-1', 'VWAP-Stock-1',\n",
    "       'Volume-Stock-1', 'Turnover-Stock-1', 'Open-Stock-2', 'High-Stock-2',\n",
    "       'Low-Stock-2', 'VWAP-Stock-2', 'Volume-Stock-2', 'Turnover-Stock-2',\n",
    "       'Open-Stock-3', 'High-Stock-3', 'Low-Stock-3', 'VWAP-Stock-3',\n",
    "       'Volume-Stock-3', 'Turnover-Stock-3', 'Open-Stock-4', 'High-Stock-4',\n",
    "       'Low-Stock-4', 'VWAP-Stock-4', 'Volume-Stock-4', 'Turnover-Stock-4',\n",
    "       'Open-Stock-5', 'High-Stock-5', 'Low-Stock-5', 'VWAP-Stock-5',\n",
    "       'Volume-Stock-5', 'Turnover-Stock-5'], axis = 1)"
   ]
  },
  {
   "cell_type": "code",
   "execution_count": 28,
   "metadata": {},
   "outputs": [],
   "source": [
    "linear_predictions_output[['Close-Stock-1','Close-Stock-2','Close-Stock-3','Close-Stock-4','Close-Stock-5' ]] = pred"
   ]
  },
  {
   "cell_type": "code",
   "execution_count": 29,
   "metadata": {},
   "outputs": [
    {
     "data": {
      "text/html": [
       "<div>\n",
       "<style scoped>\n",
       "    .dataframe tbody tr th:only-of-type {\n",
       "        vertical-align: middle;\n",
       "    }\n",
       "\n",
       "    .dataframe tbody tr th {\n",
       "        vertical-align: top;\n",
       "    }\n",
       "\n",
       "    .dataframe thead th {\n",
       "        text-align: right;\n",
       "    }\n",
       "</style>\n",
       "<table border=\"1\" class=\"dataframe\">\n",
       "  <thead>\n",
       "    <tr style=\"text-align: right;\">\n",
       "      <th></th>\n",
       "      <th>Date</th>\n",
       "      <th>Close-Stock-1</th>\n",
       "      <th>Close-Stock-2</th>\n",
       "      <th>Close-Stock-3</th>\n",
       "      <th>Close-Stock-4</th>\n",
       "      <th>Close-Stock-5</th>\n",
       "    </tr>\n",
       "  </thead>\n",
       "  <tbody>\n",
       "    <tr>\n",
       "      <th>0</th>\n",
       "      <td>2011-08-04</td>\n",
       "      <td>476.606020</td>\n",
       "      <td>202.495063</td>\n",
       "      <td>3088.469445</td>\n",
       "      <td>1001.427003</td>\n",
       "      <td>1293.786664</td>\n",
       "    </tr>\n",
       "    <tr>\n",
       "      <th>1</th>\n",
       "      <td>2011-08-05</td>\n",
       "      <td>461.100609</td>\n",
       "      <td>194.934342</td>\n",
       "      <td>3060.881584</td>\n",
       "      <td>954.275758</td>\n",
       "      <td>1222.220061</td>\n",
       "    </tr>\n",
       "    <tr>\n",
       "      <th>2</th>\n",
       "      <td>2011-08-08</td>\n",
       "      <td>465.884860</td>\n",
       "      <td>195.199907</td>\n",
       "      <td>3082.936690</td>\n",
       "      <td>959.511985</td>\n",
       "      <td>1242.947597</td>\n",
       "    </tr>\n",
       "    <tr>\n",
       "      <th>3</th>\n",
       "      <td>2011-08-09</td>\n",
       "      <td>460.439802</td>\n",
       "      <td>198.878453</td>\n",
       "      <td>3122.397681</td>\n",
       "      <td>941.575830</td>\n",
       "      <td>1215.935756</td>\n",
       "    </tr>\n",
       "    <tr>\n",
       "      <th>4</th>\n",
       "      <td>2011-08-10</td>\n",
       "      <td>468.004345</td>\n",
       "      <td>198.581985</td>\n",
       "      <td>3174.588211</td>\n",
       "      <td>961.284944</td>\n",
       "      <td>1238.482159</td>\n",
       "    </tr>\n",
       "  </tbody>\n",
       "</table>\n",
       "</div>"
      ],
      "text/plain": [
       "         Date  Close-Stock-1  Close-Stock-2  Close-Stock-3  Close-Stock-4  \\\n",
       "0  2011-08-04     476.606020     202.495063    3088.469445    1001.427003   \n",
       "1  2011-08-05     461.100609     194.934342    3060.881584     954.275758   \n",
       "2  2011-08-08     465.884860     195.199907    3082.936690     959.511985   \n",
       "3  2011-08-09     460.439802     198.878453    3122.397681     941.575830   \n",
       "4  2011-08-10     468.004345     198.581985    3174.588211     961.284944   \n",
       "\n",
       "   Close-Stock-5  \n",
       "0    1293.786664  \n",
       "1    1222.220061  \n",
       "2    1242.947597  \n",
       "3    1215.935756  \n",
       "4    1238.482159  "
      ]
     },
     "execution_count": 29,
     "metadata": {},
     "output_type": "execute_result"
    }
   ],
   "source": [
    "linear_predictions_output.head()"
   ]
  },
  {
   "cell_type": "code",
   "execution_count": 30,
   "metadata": {},
   "outputs": [],
   "source": [
    "linear_predictions_output.to_csv(\"C:\\\\Users\\\\dines\\\\OneDrive\\\\Documents\\\\data projects\\\\output.csv\", index = False)"
   ]
  },
  {
   "cell_type": "code",
   "execution_count": 31,
   "metadata": {},
   "outputs": [],
   "source": [
    "#modeling scaled data\n",
    "scaled_x = scaled_train_data\n",
    "y_for_scaled = target\n",
    "\n",
    "scaled_x_train, scaled_x_test, y_for_scaled_train, y_for_scaled_test = train_test_split(scaled_x, y_for_scaled, test_size = 0.20, random_state = 20)"
   ]
  },
  {
   "cell_type": "code",
   "execution_count": 32,
   "metadata": {},
   "outputs": [
    {
     "data": {
      "text/plain": [
       "LinearRegression()"
      ]
     },
     "execution_count": 32,
     "metadata": {},
     "output_type": "execute_result"
    }
   ],
   "source": [
    "reg_for_scaled = LinearRegression()\n",
    "reg_for_scaled"
   ]
  },
  {
   "cell_type": "code",
   "execution_count": 33,
   "metadata": {},
   "outputs": [
    {
     "data": {
      "text/plain": [
       "LinearRegression()"
      ]
     },
     "execution_count": 33,
     "metadata": {},
     "output_type": "execute_result"
    }
   ],
   "source": [
    "reg_for_scaled.fit(scaled_x_train, y_for_scaled_train)"
   ]
  },
  {
   "cell_type": "code",
   "execution_count": 34,
   "metadata": {},
   "outputs": [
    {
     "data": {
      "text/plain": [
       "array([[2303.71317679,  178.88675413, 2520.87809765, 1104.09602539,\n",
       "        1418.35765591],\n",
       "       [2349.77761631,  181.97559504, 2540.04227659, 1104.17728515,\n",
       "        1443.13099741],\n",
       "       [1988.74627929,  301.64817106, 2362.09380882,  876.50001342,\n",
       "        1270.34873385],\n",
       "       [2336.88274283,  174.89456687, 2654.38229266, 1204.43616325,\n",
       "        1488.54867044],\n",
       "       [2384.09573158,  169.9190311 , 2663.99187021, 1179.99531034,\n",
       "        1404.55173215],\n",
       "       [ 493.53903888,  200.08378896, 3129.47601173, 1028.15074588,\n",
       "        1299.22069023],\n",
       "       [2237.35832973,  162.5829548 , 2810.37738393, 1048.49008089,\n",
       "        1380.75772209],\n",
       "       [2235.34726429,  185.13097814, 2675.08920847, 1065.04284456,\n",
       "        1231.29455254],\n",
       "       [2194.70379788,  160.51561625, 2771.89543637,  987.88813845,\n",
       "        1369.10510777],\n",
       "       [2364.99842151,  168.44092406, 2611.03844599, 1097.94573873,\n",
       "        1466.2314984 ],\n",
       "       [2197.44355452,  170.45314453, 2500.60796628, 1010.35103117,\n",
       "        1278.0826128 ],\n",
       "       [2363.7905525 ,  173.00072991, 2777.48835002, 1222.82901934,\n",
       "        1523.758845  ],\n",
       "       [2077.34305922,  175.92512588, 2666.78392281, 1026.72212176,\n",
       "        1283.8726321 ],\n",
       "       [2303.67810732,  189.71647496, 2993.97166422, 1066.09050462,\n",
       "        1224.8635845 ],\n",
       "       [2252.32397395,  188.7473762 , 2873.39575668, 1033.04805885,\n",
       "        1216.58193693],\n",
       "       [2492.12540499,  202.14356019, 3266.22120577, 1090.63477623,\n",
       "        1294.8400712 ],\n",
       "       [2281.29522108,  188.179257  , 2970.81377833, 1024.71058069,\n",
       "        1210.08106093],\n",
       "       [2016.67597095,  154.56777203, 2459.36156225,  969.24505116,\n",
       "        1177.17983437],\n",
       "       [2535.63201131,  196.42718366, 3250.20627344, 1095.47618421,\n",
       "        1324.0122161 ],\n",
       "       [2044.83572191,  155.31641958, 2411.10338089,  984.97546425,\n",
       "        1219.26341901],\n",
       "       [2383.66592734,  183.99494451, 2567.72554451, 1108.69731738,\n",
       "        1416.20133086],\n",
       "       [2388.45996127,  172.4279979 , 2654.0432101 , 1135.12463654,\n",
       "        1569.39506219],\n",
       "       [ 506.13329513,  203.11139291, 3131.61387378, 1059.50839625,\n",
       "        1275.12175219],\n",
       "       [2191.49941585,  164.0248605 , 2731.40911656,  983.78284194,\n",
       "        1363.8063592 ],\n",
       "       [2467.1699849 ,  174.30810853, 2651.15864874, 1147.40261816,\n",
       "        1577.9314648 ],\n",
       "       [2277.07593405,  190.62339559, 2794.66670871, 1083.4569318 ,\n",
       "        1251.2052004 ],\n",
       "       [2373.94735702,  191.65680572, 3058.43026647, 1040.92401823,\n",
       "        1232.74741646],\n",
       "       [2299.23548389,  188.74950089, 2879.17700685, 1043.34761192,\n",
       "        1225.1411894 ],\n",
       "       [2018.16489618,  162.33144686, 2557.63309175, 1012.77169208,\n",
       "        1247.70614012],\n",
       "       [2112.01428135,  156.34743369, 2630.30245072,  956.59972816,\n",
       "        1327.39334533],\n",
       "       [2089.15107437,  156.4147482 , 2672.36363907,  977.96394538,\n",
       "        1330.79809163],\n",
       "       [2168.0088279 ,  169.71032854, 2663.29856639, 1018.81844902,\n",
       "        1267.93532053],\n",
       "       [2268.78368064,  170.53041407, 2686.50537163, 1129.53154303,\n",
       "        1461.04340958],\n",
       "       [2475.24079172,  173.32953182, 2655.08520337, 1152.83429434,\n",
       "        1568.75264358],\n",
       "       [1900.46503759,  295.99100767, 2371.53897254,  844.23974406,\n",
       "        1235.99161082],\n",
       "       [2457.11779224,  178.54210552, 2770.88224488, 1118.30632464,\n",
       "        1508.22094982],\n",
       "       [2331.71620706,  186.96707194, 2958.30652447, 1022.64610783,\n",
       "        1247.1478659 ],\n",
       "       [1906.07868358,  280.14716114, 2291.10772749,  826.36001722,\n",
       "        1237.06264762],\n",
       "       [2364.91208676,  175.84432147, 2706.95201281, 1240.89625038,\n",
       "        1535.17937881],\n",
       "       [1998.48294224,  302.37553125, 2410.77663145,  899.75741008,\n",
       "        1250.57011804],\n",
       "       [2104.08368343,  172.74287131, 2670.02295032, 1042.09697818,\n",
       "        1298.64362155],\n",
       "       [2119.07262869,  169.10721021, 2644.77922079, 1086.5812863 ,\n",
       "        1336.61484802],\n",
       "       [2271.04780906,  184.66865668, 2746.81628138, 1073.08567543,\n",
       "        1236.73390205],\n",
       "       [2063.10026569,  300.3203879 , 2436.94299588,  886.8891227 ,\n",
       "        1331.82084096],\n",
       "       [2322.44467588,  174.35582151, 2837.02554626, 1126.76173867,\n",
       "        1313.8854256 ],\n",
       "       [2303.30149726,  171.62602892, 2599.15973335, 1128.29920642,\n",
       "        1456.38588891],\n",
       "       [2053.29724154,  294.32052554, 2458.93292991,  899.2176571 ,\n",
       "        1358.75032999],\n",
       "       [2401.7510936 ,  171.2612021 , 2662.79019139, 1120.93976758,\n",
       "        1561.38905525],\n",
       "       [2169.88719412,  170.30302836, 2529.63563187,  997.52238979,\n",
       "        1285.36722355],\n",
       "       [2156.74940035,  162.53252805, 2716.01697275,  963.7655784 ,\n",
       "        1344.90834193],\n",
       "       [2331.4544092 ,  171.38939821, 2622.35538614, 1126.02300405,\n",
       "        1466.62710561],\n",
       "       [ 481.77534668,  205.22882713, 3104.45128347, 1029.34776369,\n",
       "        1307.03225272],\n",
       "       [2038.6259246 ,  299.87055406, 2394.58627525,  888.27424427,\n",
       "        1282.61010617],\n",
       "       [2356.36695376,  171.51531405, 2708.38984081, 1169.17275691,\n",
       "        1421.52057365],\n",
       "       [2121.41851026,  174.00334439, 2720.00853717, 1024.95739621,\n",
       "        1228.86352332],\n",
       "       [1851.23055412,  283.61855835, 2086.96612964,  843.08380306,\n",
       "        1194.34114653],\n",
       "       [2364.90652917,  190.76916281, 2607.77704939, 1116.09656005,\n",
       "        1438.19887169],\n",
       "       [1917.18322664,  302.97186075, 2341.80180617,  841.37580546,\n",
       "        1237.55699426],\n",
       "       [2381.69666069,  195.33356867, 2986.97696842, 1065.46178626,\n",
       "        1278.60258677],\n",
       "       [2373.35799918,  175.59412406, 2666.00564162, 1180.88334812,\n",
       "        1429.20319347]])"
      ]
     },
     "execution_count": 34,
     "metadata": {},
     "output_type": "execute_result"
    }
   ],
   "source": [
    "preds_scaled_linear = reg_for_scaled.predict(scaled_x_test)\n",
    "preds_scaled_linear"
   ]
  },
  {
   "cell_type": "code",
   "execution_count": 35,
   "metadata": {},
   "outputs": [
    {
     "name": "stdout",
     "output_type": "stream",
     "text": [
      "rmse:  11.805233876561855\n"
     ]
    }
   ],
   "source": [
    "print('rmse: ', sqrt(mean_squared_error(preds_scaled_linear, y_for_scaled_test)))"
   ]
  },
  {
   "cell_type": "code",
   "execution_count": 36,
   "metadata": {},
   "outputs": [],
   "source": [
    "b = list(linear_test_preds)\n",
    "scaled_pred = pd.DataFrame(b, columns = ['Close-Stock-1','Close-Stock-2','Close-Stock-3','Close-Stock-4','Close-Stock-5' ])\n",
    "scaled_pred.shape\n",
    "\n",
    "scaled_linear_predictions_output = test_data.drop(['Open-Stock-1', 'High-Stock-1', 'Low-Stock-1', 'VWAP-Stock-1',\n",
    "       'Volume-Stock-1', 'Turnover-Stock-1', 'Open-Stock-2', 'High-Stock-2',\n",
    "       'Low-Stock-2', 'VWAP-Stock-2', 'Volume-Stock-2', 'Turnover-Stock-2',\n",
    "       'Open-Stock-3', 'High-Stock-3', 'Low-Stock-3', 'VWAP-Stock-3',\n",
    "       'Volume-Stock-3', 'Turnover-Stock-3', 'Open-Stock-4', 'High-Stock-4',\n",
    "       'Low-Stock-4', 'VWAP-Stock-4', 'Volume-Stock-4', 'Turnover-Stock-4',\n",
    "       'Open-Stock-5', 'High-Stock-5', 'Low-Stock-5', 'VWAP-Stock-5',\n",
    "       'Volume-Stock-5', 'Turnover-Stock-5'], axis = 1)\n",
    "\n",
    "scaled_linear_predictions_output[['Close-Stock-1','Close-Stock-2','Close-Stock-3','Close-Stock-4','Close-Stock-5' ]] = scaled_pred\n"
   ]
  },
  {
   "cell_type": "code",
   "execution_count": 37,
   "metadata": {},
   "outputs": [
    {
     "data": {
      "text/html": [
       "<div>\n",
       "<style scoped>\n",
       "    .dataframe tbody tr th:only-of-type {\n",
       "        vertical-align: middle;\n",
       "    }\n",
       "\n",
       "    .dataframe tbody tr th {\n",
       "        vertical-align: top;\n",
       "    }\n",
       "\n",
       "    .dataframe thead th {\n",
       "        text-align: right;\n",
       "    }\n",
       "</style>\n",
       "<table border=\"1\" class=\"dataframe\">\n",
       "  <thead>\n",
       "    <tr style=\"text-align: right;\">\n",
       "      <th></th>\n",
       "      <th>Date</th>\n",
       "      <th>Close-Stock-1</th>\n",
       "      <th>Close-Stock-2</th>\n",
       "      <th>Close-Stock-3</th>\n",
       "      <th>Close-Stock-4</th>\n",
       "      <th>Close-Stock-5</th>\n",
       "    </tr>\n",
       "  </thead>\n",
       "  <tbody>\n",
       "    <tr>\n",
       "      <th>0</th>\n",
       "      <td>2011-08-04</td>\n",
       "      <td>476.606020</td>\n",
       "      <td>202.495063</td>\n",
       "      <td>3088.469445</td>\n",
       "      <td>1001.427003</td>\n",
       "      <td>1293.786664</td>\n",
       "    </tr>\n",
       "    <tr>\n",
       "      <th>1</th>\n",
       "      <td>2011-08-05</td>\n",
       "      <td>461.100609</td>\n",
       "      <td>194.934342</td>\n",
       "      <td>3060.881584</td>\n",
       "      <td>954.275758</td>\n",
       "      <td>1222.220061</td>\n",
       "    </tr>\n",
       "    <tr>\n",
       "      <th>2</th>\n",
       "      <td>2011-08-08</td>\n",
       "      <td>465.884860</td>\n",
       "      <td>195.199907</td>\n",
       "      <td>3082.936690</td>\n",
       "      <td>959.511985</td>\n",
       "      <td>1242.947597</td>\n",
       "    </tr>\n",
       "    <tr>\n",
       "      <th>3</th>\n",
       "      <td>2011-08-09</td>\n",
       "      <td>460.439802</td>\n",
       "      <td>198.878453</td>\n",
       "      <td>3122.397681</td>\n",
       "      <td>941.575830</td>\n",
       "      <td>1215.935756</td>\n",
       "    </tr>\n",
       "    <tr>\n",
       "      <th>4</th>\n",
       "      <td>2011-08-10</td>\n",
       "      <td>468.004345</td>\n",
       "      <td>198.581985</td>\n",
       "      <td>3174.588211</td>\n",
       "      <td>961.284944</td>\n",
       "      <td>1238.482159</td>\n",
       "    </tr>\n",
       "  </tbody>\n",
       "</table>\n",
       "</div>"
      ],
      "text/plain": [
       "         Date  Close-Stock-1  Close-Stock-2  Close-Stock-3  Close-Stock-4  \\\n",
       "0  2011-08-04     476.606020     202.495063    3088.469445    1001.427003   \n",
       "1  2011-08-05     461.100609     194.934342    3060.881584     954.275758   \n",
       "2  2011-08-08     465.884860     195.199907    3082.936690     959.511985   \n",
       "3  2011-08-09     460.439802     198.878453    3122.397681     941.575830   \n",
       "4  2011-08-10     468.004345     198.581985    3174.588211     961.284944   \n",
       "\n",
       "   Close-Stock-5  \n",
       "0    1293.786664  \n",
       "1    1222.220061  \n",
       "2    1242.947597  \n",
       "3    1215.935756  \n",
       "4    1238.482159  "
      ]
     },
     "execution_count": 37,
     "metadata": {},
     "output_type": "execute_result"
    }
   ],
   "source": [
    "scaled_linear_predictions_output.head()"
   ]
  },
  {
   "cell_type": "code",
   "execution_count": 38,
   "metadata": {},
   "outputs": [],
   "source": [
    "scaled_linear_predictions_output.to_csv('C:\\\\Users\\\\dines\\\\OneDrive\\\\Documents\\\\data projects\\\\output.csv', index = False)"
   ]
  },
  {
   "cell_type": "code",
   "execution_count": null,
   "metadata": {},
   "outputs": [],
   "source": []
  },
  {
   "cell_type": "code",
   "execution_count": null,
   "metadata": {},
   "outputs": [],
   "source": []
  },
  {
   "cell_type": "code",
   "execution_count": null,
   "metadata": {},
   "outputs": [],
   "source": []
  },
  {
   "cell_type": "markdown",
   "metadata": {},
   "source": [
    "### Decision tree model"
   ]
  },
  {
   "cell_type": "code",
   "execution_count": 39,
   "metadata": {},
   "outputs": [
    {
     "name": "stdout",
     "output_type": "stream",
     "text": [
      "(299, 30) (299, 5)\n"
     ]
    }
   ],
   "source": [
    "DT_X = features\n",
    "DT_y = target\n",
    "print(DT_X.shape, DT_y.shape)"
   ]
  },
  {
   "cell_type": "code",
   "execution_count": 40,
   "metadata": {},
   "outputs": [
    {
     "data": {
      "text/plain": [
       "DecisionTreeRegressor()"
      ]
     },
     "execution_count": 40,
     "metadata": {},
     "output_type": "execute_result"
    }
   ],
   "source": [
    "from sklearn.tree import DecisionTreeRegressor\n",
    "DT = DecisionTreeRegressor()\n",
    "DT"
   ]
  },
  {
   "cell_type": "code",
   "execution_count": 41,
   "metadata": {},
   "outputs": [],
   "source": [
    "DT_x_train, DT_x_test, DT_y_train, DT_y_test = train_test_split(DT_X, DT_y, test_size = 0.20, random_state = 100)\n"
   ]
  },
  {
   "cell_type": "code",
   "execution_count": 42,
   "metadata": {},
   "outputs": [
    {
     "data": {
      "text/plain": [
       "DecisionTreeRegressor()"
      ]
     },
     "execution_count": 42,
     "metadata": {},
     "output_type": "execute_result"
    }
   ],
   "source": [
    "DT.fit(DT_x_train, DT_y_train)"
   ]
  },
  {
   "cell_type": "code",
   "execution_count": 43,
   "metadata": {},
   "outputs": [],
   "source": [
    "DT_predictions = DT.predict(DT_x_test)\n",
    "DT_test_preds = DT.predict(test_features)"
   ]
  },
  {
   "cell_type": "code",
   "execution_count": 44,
   "metadata": {},
   "outputs": [
    {
     "name": "stdout",
     "output_type": "stream",
     "text": [
      "rmse:  34.458307295435546\n"
     ]
    }
   ],
   "source": [
    "print('rmse: ', sqrt(mean_squared_error(DT_predictions, DT_y_test)))"
   ]
  },
  {
   "cell_type": "code",
   "execution_count": 45,
   "metadata": {},
   "outputs": [],
   "source": [
    "c = list(DT_test_preds)\n",
    "DT_pred = pd.DataFrame(c, columns = ['Close-Stock-1','Close-Stock-2','Close-Stock-3','Close-Stock-4','Close-Stock-5' ])\n",
    "\n",
    "\n",
    "DT_predictions_output = test_data.drop(['Open-Stock-1', 'High-Stock-1', 'Low-Stock-1', 'VWAP-Stock-1',\n",
    "       'Volume-Stock-1', 'Turnover-Stock-1', 'Open-Stock-2', 'High-Stock-2',\n",
    "       'Low-Stock-2', 'VWAP-Stock-2', 'Volume-Stock-2', 'Turnover-Stock-2',\n",
    "       'Open-Stock-3', 'High-Stock-3', 'Low-Stock-3', 'VWAP-Stock-3',\n",
    "       'Volume-Stock-3', 'Turnover-Stock-3', 'Open-Stock-4', 'High-Stock-4',\n",
    "       'Low-Stock-4', 'VWAP-Stock-4', 'Volume-Stock-4', 'Turnover-Stock-4',\n",
    "       'Open-Stock-5', 'High-Stock-5', 'Low-Stock-5', 'VWAP-Stock-5',\n",
    "       'Volume-Stock-5', 'Turnover-Stock-5'], axis = 1)\n",
    "\n",
    "DT_predictions_output[['Close-Stock-1','Close-Stock-2','Close-Stock-3','Close-Stock-4','Close-Stock-5' ]] = DT_pred\n"
   ]
  },
  {
   "cell_type": "code",
   "execution_count": 46,
   "metadata": {},
   "outputs": [],
   "source": [
    "DT_predictions_output.to_csv('C:\\\\Users\\\\dines\\\\OneDrive\\\\Documents\\\\data projects\\\\output.csv', index = False)"
   ]
  },
  {
   "cell_type": "markdown",
   "metadata": {},
   "source": [
    "### Random Forest"
   ]
  },
  {
   "cell_type": "code",
   "execution_count": 47,
   "metadata": {},
   "outputs": [
    {
     "data": {
      "text/plain": [
       "RandomForestRegressor()"
      ]
     },
     "execution_count": 47,
     "metadata": {},
     "output_type": "execute_result"
    }
   ],
   "source": [
    "from sklearn.ensemble import RandomForestRegressor\n",
    "rf = RandomForestRegressor()\n",
    "rf"
   ]
  },
  {
   "cell_type": "code",
   "execution_count": 48,
   "metadata": {},
   "outputs": [
    {
     "data": {
      "text/plain": [
       "RandomForestRegressor()"
      ]
     },
     "execution_count": 48,
     "metadata": {},
     "output_type": "execute_result"
    }
   ],
   "source": [
    "rf.fit(DT_x_train, DT_y_train)"
   ]
  },
  {
   "cell_type": "code",
   "execution_count": 49,
   "metadata": {
    "scrolled": true
   },
   "outputs": [],
   "source": [
    "rf_preds = rf.predict(DT_x_test)"
   ]
  },
  {
   "cell_type": "code",
   "execution_count": 50,
   "metadata": {},
   "outputs": [
    {
     "name": "stdout",
     "output_type": "stream",
     "text": [
      "rmse:  22.452190532922792\n"
     ]
    }
   ],
   "source": [
    "print('rmse: ', sqrt(mean_squared_error(rf_preds, DT_y_test)))"
   ]
  },
  {
   "cell_type": "code",
   "execution_count": 51,
   "metadata": {},
   "outputs": [],
   "source": [
    "rf_test_preds = rf.predict(test_features)"
   ]
  },
  {
   "cell_type": "code",
   "execution_count": 52,
   "metadata": {},
   "outputs": [],
   "source": [
    "d = list(rf_test_preds)\n",
    "rf_pred = pd.DataFrame(d, columns = ['Close-Stock-1','Close-Stock-2','Close-Stock-3','Close-Stock-4','Close-Stock-5' ])\n",
    "rf_pred.shape\n",
    "\n",
    "rf_predictions_output = test_data.drop(['Open-Stock-1', 'High-Stock-1', 'Low-Stock-1', 'VWAP-Stock-1',\n",
    "       'Volume-Stock-1', 'Turnover-Stock-1', 'Open-Stock-2', 'High-Stock-2',\n",
    "       'Low-Stock-2', 'VWAP-Stock-2', 'Volume-Stock-2', 'Turnover-Stock-2',\n",
    "       'Open-Stock-3', 'High-Stock-3', 'Low-Stock-3', 'VWAP-Stock-3',\n",
    "       'Volume-Stock-3', 'Turnover-Stock-3', 'Open-Stock-4', 'High-Stock-4',\n",
    "       'Low-Stock-4', 'VWAP-Stock-4', 'Volume-Stock-4', 'Turnover-Stock-4',\n",
    "       'Open-Stock-5', 'High-Stock-5', 'Low-Stock-5', 'VWAP-Stock-5',\n",
    "       'Volume-Stock-5', 'Turnover-Stock-5'], axis = 1)\n",
    "\n",
    "rf_predictions_output[['Close-Stock-1','Close-Stock-2','Close-Stock-3','Close-Stock-4','Close-Stock-5' ]] = rf_pred\n"
   ]
  },
  {
   "cell_type": "code",
   "execution_count": 53,
   "metadata": {},
   "outputs": [],
   "source": [
    "rf_predictions_output.to_csv('C:\\\\Users\\\\dines\\\\OneDrive\\\\Documents\\\\data projects\\\\output.csv', index = False)"
   ]
  },
  {
   "cell_type": "markdown",
   "metadata": {},
   "source": [
    "### Feature selection"
   ]
  },
  {
   "cell_type": "code",
   "execution_count": 54,
   "metadata": {},
   "outputs": [
    {
     "data": {
      "text/plain": [
       "array([19.16717003, 14.75700369, 23.25343697, 21.85873356,  0.57791478,\n",
       "        0.03153341,  0.12831158,  0.15869937,  0.21559507,  0.17088516,\n",
       "        0.03493698,  0.04236606,  0.68996501,  3.22226877,  1.95569416,\n",
       "        7.67273887,  0.03560355,  0.02931519,  0.43448295,  0.54360391,\n",
       "        0.87338152,  0.53188807,  0.03518272,  0.04763111,  0.12222615,\n",
       "        1.62530676,  0.27121387,  1.43909054,  0.04095431,  0.0328659 ])"
      ]
     },
     "execution_count": 54,
     "metadata": {},
     "output_type": "execute_result"
    }
   ],
   "source": [
    "feature_importance = rf.feature_importances_*100\n",
    "feature_importance"
   ]
  },
  {
   "cell_type": "code",
   "execution_count": 55,
   "metadata": {},
   "outputs": [
    {
     "data": {
      "text/plain": [
       "Text(0.5, 0, 'feature importance')"
      ]
     },
     "execution_count": 55,
     "metadata": {},
     "output_type": "execute_result"
    },
    {
     "data": {
      "image/png": "[encoded data removed]",
      "text/plain": [
       "<Figure size 720x1080 with 1 Axes>"
      ]
     },
     "metadata": {
      "needs_background": "light"
     },
     "output_type": "display_data"
    }
   ],
   "source": [
    "importance = pd.DataFrame({'Importance' : feature_importance}, index = DT_x_train.columns )\n",
    "importance.sort_values('Importance', axis = 0, ascending = True).plot(kind = 'barh', color = 'r', figsize = (10,15))\n",
    "\n",
    "plt.xlabel('feature importance')"
   ]
  },
  {
   "cell_type": "code",
   "execution_count": 56,
   "metadata": {},
   "outputs": [],
   "source": [
    "sig_features = ['VWAP-Stock-1', 'Low-Stock-1', 'High-Stock-1', 'Open-Stock-1', 'VWAP-Stock-3', 'High-Stock-3', 'Low-Stock-3', 'High-Stock-5', 'VWAP-Stock-5', 'Open-Stock-3', 'Low-Stock-4', 'Volume-Stock-1', 'High-Stock-4', 'Open-Stock-4', 'VWAP-Stock-4', 'Low-Stock-5', 'Open-Stock-5', 'VWAP-Stock-2', 'High-Stock-2', 'Open-Stock-2', 'Low-Stock-2' ]"
   ]
  },
  {
   "cell_type": "code",
   "execution_count": 57,
   "metadata": {},
   "outputs": [],
   "source": [
    "imp_x = features[sig_features]\n",
    "y = target"
   ]
  },
  {
   "cell_type": "code",
   "execution_count": 58,
   "metadata": {},
   "outputs": [],
   "source": [
    "x_train, x_test, y_train, y_test = train_test_split(imp_x, y, test_size = 0.20, random_state = 41)"
   ]
  },
  {
   "cell_type": "code",
   "execution_count": 59,
   "metadata": {},
   "outputs": [
    {
     "data": {
      "text/plain": [
       "LinearRegression()"
      ]
     },
     "execution_count": 59,
     "metadata": {},
     "output_type": "execute_result"
    }
   ],
   "source": [
    "linear_model.fit(x_train, y_train)"
   ]
  },
  {
   "cell_type": "code",
   "execution_count": 60,
   "metadata": {},
   "outputs": [],
   "source": [
    "imp_pred = linear_model.predict(x_test)"
   ]
  },
  {
   "cell_type": "code",
   "execution_count": 61,
   "metadata": {},
   "outputs": [
    {
     "data": {
      "text/plain": [
       "91.7696964192893"
      ]
     },
     "execution_count": 61,
     "metadata": {},
     "output_type": "execute_result"
    }
   ],
   "source": [
    "mean_squared_error(imp_pred,y_test)"
   ]
  },
  {
   "cell_type": "code",
   "execution_count": 62,
   "metadata": {},
   "outputs": [
    {
     "data": {
      "text/plain": [
       "9.57965011987856"
      ]
     },
     "execution_count": 62,
     "metadata": {},
     "output_type": "execute_result"
    }
   ],
   "source": [
    "sqrt(mean_squared_error(imp_pred,y_test))"
   ]
  },
  {
   "cell_type": "code",
   "execution_count": 63,
   "metadata": {},
   "outputs": [],
   "source": [
    "imp_test_features = test_features[sig_features]\n",
    "imp_pred = linear_model.predict(imp_test_features)"
   ]
  },
  {
   "cell_type": "code",
   "execution_count": 64,
   "metadata": {},
   "outputs": [],
   "source": [
    "e = list(imp_pred)\n",
    "imp_preds = pd.DataFrame(e, columns = ['Close-Stock-1','Close-Stock-2','Close-Stock-3','Close-Stock-4','Close-Stock-5' ])\n",
    "\n",
    "\n",
    "imp_predictions_output = test_data.drop(['Open-Stock-1', 'High-Stock-1', 'Low-Stock-1', 'VWAP-Stock-1',\n",
    "       'Volume-Stock-1', 'Turnover-Stock-1', 'Open-Stock-2', 'High-Stock-2',\n",
    "       'Low-Stock-2', 'VWAP-Stock-2', 'Volume-Stock-2', 'Turnover-Stock-2',\n",
    "       'Open-Stock-3', 'High-Stock-3', 'Low-Stock-3', 'VWAP-Stock-3',\n",
    "       'Volume-Stock-3', 'Turnover-Stock-3', 'Open-Stock-4', 'High-Stock-4',\n",
    "       'Low-Stock-4', 'VWAP-Stock-4', 'Volume-Stock-4', 'Turnover-Stock-4',\n",
    "       'Open-Stock-5', 'High-Stock-5', 'Low-Stock-5', 'VWAP-Stock-5',\n",
    "       'Volume-Stock-5', 'Turnover-Stock-5'], axis = 1)\n",
    "\n",
    "imp_predictions_output[['Close-Stock-1','Close-Stock-2','Close-Stock-3','Close-Stock-4','Close-Stock-5' ]] = imp_preds\n"
   ]
  },
  {
   "cell_type": "code",
   "execution_count": 65,
   "metadata": {},
   "outputs": [],
   "source": [
    "imp_predictions_output.to_csv('C:\\\\Users\\\\dines\\\\OneDrive\\\\Documents\\\\data projects\\\\output.csv', index = False)"
   ]
  },
  {
   "cell_type": "code",
   "execution_count": 66,
   "metadata": {},
   "outputs": [],
   "source": [
    "sig_features2 = ['VWAP-Stock-1', 'Low-Stock-1', 'High-Stock-1', 'Open-Stock-1', 'VWAP-Stock-3', 'High-Stock-3', 'Low-Stock-3', 'High-Stock-5', 'VWAP-Stock-5', 'Open-Stock-3', 'Low-Stock-4', 'Volume-Stock-1', 'High-Stock-4', 'Open-Stock-4', 'VWAP-Stock-4', 'Low-Stock-5', 'Open-Stock-5', 'VWAP-Stock-2',  'High-Stock-2' ]"
   ]
  },
  {
   "cell_type": "code",
   "execution_count": 88,
   "metadata": {},
   "outputs": [
    {
     "data": {
      "text/plain": [
       "(299, 21)"
      ]
     },
     "execution_count": 88,
     "metadata": {},
     "output_type": "execute_result"
    }
   ],
   "source": [
    "imp_x.shape"
   ]
  },
  {
   "cell_type": "code",
   "execution_count": 67,
   "metadata": {},
   "outputs": [],
   "source": [
    "imp2_x = features[sig_features2]\n",
    "y2 = target\n",
    "\n",
    "x2_train, x2_test, y2_train, y2_test = train_test_split(imp2_x, y2, test_size = 0.20, random_state = 32)"
   ]
  },
  {
   "cell_type": "code",
   "execution_count": 68,
   "metadata": {},
   "outputs": [
    {
     "data": {
      "text/plain": [
       "LinearRegression()"
      ]
     },
     "execution_count": 68,
     "metadata": {},
     "output_type": "execute_result"
    }
   ],
   "source": [
    "linear_model.fit(x2_train, y2_train)"
   ]
  },
  {
   "cell_type": "code",
   "execution_count": 69,
   "metadata": {},
   "outputs": [
    {
     "data": {
      "text/plain": [
       "93.8894598020482"
      ]
     },
     "execution_count": 69,
     "metadata": {},
     "output_type": "execute_result"
    }
   ],
   "source": [
    "imp2_pred = linear_model.predict(x2_test)\n",
    "mean_squared_error(imp2_pred, y2_test)"
   ]
  },
  {
   "cell_type": "code",
   "execution_count": 70,
   "metadata": {},
   "outputs": [
    {
     "data": {
      "text/plain": [
       "9.689657362468923"
      ]
     },
     "execution_count": 70,
     "metadata": {},
     "output_type": "execute_result"
    }
   ],
   "source": [
    "sqrt(mean_squared_error(imp2_pred, y2_test))"
   ]
  },
  {
   "cell_type": "code",
   "execution_count": 81,
   "metadata": {},
   "outputs": [
    {
     "data": {
      "text/html": [
       "<div>\n",
       "<style scoped>\n",
       "    .dataframe tbody tr th:only-of-type {\n",
       "        vertical-align: middle;\n",
       "    }\n",
       "\n",
       "    .dataframe tbody tr th {\n",
       "        vertical-align: top;\n",
       "    }\n",
       "\n",
       "    .dataframe thead th {\n",
       "        text-align: right;\n",
       "    }\n",
       "</style>\n",
       "<table border=\"1\" class=\"dataframe\">\n",
       "  <thead>\n",
       "    <tr style=\"text-align: right;\">\n",
       "      <th></th>\n",
       "      <th>VWAP-Stock-1</th>\n",
       "      <th>Low-Stock-1</th>\n",
       "      <th>High-Stock-1</th>\n",
       "      <th>Open-Stock-1</th>\n",
       "      <th>VWAP-Stock-3</th>\n",
       "      <th>High-Stock-3</th>\n",
       "      <th>Low-Stock-3</th>\n",
       "      <th>High-Stock-5</th>\n",
       "      <th>VWAP-Stock-5</th>\n",
       "      <th>Open-Stock-3</th>\n",
       "      <th>...</th>\n",
       "      <th>Open-Stock-5</th>\n",
       "      <th>VWAP-Stock-2</th>\n",
       "      <th>High-Stock-2</th>\n",
       "      <th>Open-Stock-2</th>\n",
       "      <th>Low-Stock-2</th>\n",
       "      <th>Close-Stock-1</th>\n",
       "      <th>Close-Stock-2</th>\n",
       "      <th>Close-Stock-3</th>\n",
       "      <th>Close-Stock-4</th>\n",
       "      <th>Close-Stock-5</th>\n",
       "    </tr>\n",
       "  </thead>\n",
       "  <tbody>\n",
       "    <tr>\n",
       "      <th>0</th>\n",
       "      <td>1855.75</td>\n",
       "      <td>1838.00</td>\n",
       "      <td>1890.00</td>\n",
       "      <td>1889.7</td>\n",
       "      <td>2088.95</td>\n",
       "      <td>2097.8</td>\n",
       "      <td>2045.00</td>\n",
       "      <td>1238.00</td>\n",
       "      <td>1197.29</td>\n",
       "      <td>2095.00</td>\n",
       "      <td>...</td>\n",
       "      <td>1235.0</td>\n",
       "      <td>283.72</td>\n",
       "      <td>285.95</td>\n",
       "      <td>285.40</td>\n",
       "      <td>281.50</td>\n",
       "      <td>1855.10</td>\n",
       "      <td>283.00</td>\n",
       "      <td>2077.25</td>\n",
       "      <td>837.95</td>\n",
       "      <td>1181.70</td>\n",
       "    </tr>\n",
       "    <tr>\n",
       "      <th>1</th>\n",
       "      <td>1842.82</td>\n",
       "      <td>1828.00</td>\n",
       "      <td>1862.75</td>\n",
       "      <td>1848.0</td>\n",
       "      <td>2059.52</td>\n",
       "      <td>2098.0</td>\n",
       "      <td>2023.00</td>\n",
       "      <td>1206.95</td>\n",
       "      <td>1189.87</td>\n",
       "      <td>2061.45</td>\n",
       "      <td>...</td>\n",
       "      <td>1195.0</td>\n",
       "      <td>281.05</td>\n",
       "      <td>284.80</td>\n",
       "      <td>284.00</td>\n",
       "      <td>279.25</td>\n",
       "      <td>1853.05</td>\n",
       "      <td>281.30</td>\n",
       "      <td>2079.85</td>\n",
       "      <td>842.30</td>\n",
       "      <td>1201.15</td>\n",
       "    </tr>\n",
       "    <tr>\n",
       "      <th>2</th>\n",
       "      <td>1893.91</td>\n",
       "      <td>1864.10</td>\n",
       "      <td>1910.00</td>\n",
       "      <td>1864.1</td>\n",
       "      <td>2107.84</td>\n",
       "      <td>2131.5</td>\n",
       "      <td>2091.05</td>\n",
       "      <td>1248.00</td>\n",
       "      <td>1231.63</td>\n",
       "      <td>2131.50</td>\n",
       "      <td>...</td>\n",
       "      <td>1211.0</td>\n",
       "      <td>285.34</td>\n",
       "      <td>286.85</td>\n",
       "      <td>283.00</td>\n",
       "      <td>282.50</td>\n",
       "      <td>1905.60</td>\n",
       "      <td>285.50</td>\n",
       "      <td>2114.90</td>\n",
       "      <td>854.10</td>\n",
       "      <td>1242.30</td>\n",
       "    </tr>\n",
       "    <tr>\n",
       "      <th>3</th>\n",
       "      <td>1889.21</td>\n",
       "      <td>1880.10</td>\n",
       "      <td>1909.80</td>\n",
       "      <td>1906.0</td>\n",
       "      <td>2145.36</td>\n",
       "      <td>2156.0</td>\n",
       "      <td>2095.50</td>\n",
       "      <td>1258.00</td>\n",
       "      <td>1249.72</td>\n",
       "      <td>2114.90</td>\n",
       "      <td>...</td>\n",
       "      <td>1240.0</td>\n",
       "      <td>289.81</td>\n",
       "      <td>291.80</td>\n",
       "      <td>288.85</td>\n",
       "      <td>277.00</td>\n",
       "      <td>1885.70</td>\n",
       "      <td>290.85</td>\n",
       "      <td>2146.75</td>\n",
       "      <td>865.85</td>\n",
       "      <td>1245.45</td>\n",
       "    </tr>\n",
       "    <tr>\n",
       "      <th>4</th>\n",
       "      <td>1873.32</td>\n",
       "      <td>1808.35</td>\n",
       "      <td>1894.85</td>\n",
       "      <td>1867.0</td>\n",
       "      <td>2180.52</td>\n",
       "      <td>2209.0</td>\n",
       "      <td>2112.00</td>\n",
       "      <td>1225.00</td>\n",
       "      <td>1209.27</td>\n",
       "      <td>2132.35</td>\n",
       "      <td>...</td>\n",
       "      <td>1218.6</td>\n",
       "      <td>287.01</td>\n",
       "      <td>289.10</td>\n",
       "      <td>285.00</td>\n",
       "      <td>285.00</td>\n",
       "      <td>1876.65</td>\n",
       "      <td>287.70</td>\n",
       "      <td>2185.25</td>\n",
       "      <td>841.95</td>\n",
       "      <td>1214.80</td>\n",
       "    </tr>\n",
       "  </tbody>\n",
       "</table>\n",
       "<p>5 rows × 26 columns</p>\n",
       "</div>"
      ],
      "text/plain": [
       "   VWAP-Stock-1  Low-Stock-1  High-Stock-1  Open-Stock-1  VWAP-Stock-3  \\\n",
       "0       1855.75      1838.00       1890.00        1889.7       2088.95   \n",
       "1       1842.82      1828.00       1862.75        1848.0       2059.52   \n",
       "2       1893.91      1864.10       1910.00        1864.1       2107.84   \n",
       "3       1889.21      1880.10       1909.80        1906.0       2145.36   \n",
       "4       1873.32      1808.35       1894.85        1867.0       2180.52   \n",
       "\n",
       "   High-Stock-3  Low-Stock-3  High-Stock-5  VWAP-Stock-5  Open-Stock-3  ...  \\\n",
       "0        2097.8      2045.00       1238.00       1197.29       2095.00  ...   \n",
       "1        2098.0      2023.00       1206.95       1189.87       2061.45  ...   \n",
       "2        2131.5      2091.05       1248.00       1231.63       2131.50  ...   \n",
       "3        2156.0      2095.50       1258.00       1249.72       2114.90  ...   \n",
       "4        2209.0      2112.00       1225.00       1209.27       2132.35  ...   \n",
       "\n",
       "   Open-Stock-5  VWAP-Stock-2  High-Stock-2  Open-Stock-2  Low-Stock-2  \\\n",
       "0        1235.0        283.72        285.95        285.40       281.50   \n",
       "1        1195.0        281.05        284.80        284.00       279.25   \n",
       "2        1211.0        285.34        286.85        283.00       282.50   \n",
       "3        1240.0        289.81        291.80        288.85       277.00   \n",
       "4        1218.6        287.01        289.10        285.00       285.00   \n",
       "\n",
       "   Close-Stock-1  Close-Stock-2  Close-Stock-3  Close-Stock-4  Close-Stock-5  \n",
       "0        1855.10         283.00        2077.25         837.95        1181.70  \n",
       "1        1853.05         281.30        2079.85         842.30        1201.15  \n",
       "2        1905.60         285.50        2114.90         854.10        1242.30  \n",
       "3        1885.70         290.85        2146.75         865.85        1245.45  \n",
       "4        1876.65         287.70        2185.25         841.95        1214.80  \n",
       "\n",
       "[5 rows x 26 columns]"
      ]
     },
     "execution_count": 81,
     "metadata": {},
     "output_type": "execute_result"
    }
   ],
   "source": [
    "combined = pd.concat([imp_x, y], axis = 1)\n",
    "combined.head()"
   ]
  },
  {
   "cell_type": "code",
   "execution_count": 83,
   "metadata": {},
   "outputs": [
    {
     "data": {
      "text/plain": [
       "array([[0.70171601, 0.69081657, 0.67251454, ..., 2.56386858, 2.17722854,\n",
       "        1.5216627 ],\n",
       "       [0.73328396, 0.71549087, 0.73825409, ..., 2.55313834, 2.13093562,\n",
       "        1.32627605],\n",
       "       [0.60855027, 0.62641663, 0.62426532, ..., 2.40848647, 2.00535941,\n",
       "        0.91290019],\n",
       "       ...,\n",
       "       [4.03822641, 4.03048366, 4.03560521, ..., 1.52435224, 0.029933  ,\n",
       "        0.19914618],\n",
       "       [4.05248448, 4.0415871 , 4.05502551, ..., 1.4595581 , 0.22175153,\n",
       "        0.09668121],\n",
       "       [4.05592692, 4.05145682, 4.05140682, ..., 1.34008103, 0.43193205,\n",
       "        0.32171745]])"
      ]
     },
     "execution_count": 83,
     "metadata": {},
     "output_type": "execute_result"
    }
   ],
   "source": [
    "## outlier detection using z score\n",
    "from scipy import stats\n",
    "z = np.abs(stats.zscore(combined))\n",
    "z"
   ]
  },
  {
   "cell_type": "code",
   "execution_count": 84,
   "metadata": {},
   "outputs": [
    {
     "data": {
      "text/plain": [
       "84"
      ]
     },
     "execution_count": 84,
     "metadata": {},
     "output_type": "execute_result"
    }
   ],
   "source": [
    "len(np.where(z > 3)[0])"
   ]
  },
  {
   "cell_type": "code",
   "execution_count": 158,
   "metadata": {},
   "outputs": [
    {
     "data": {
      "text/html": [
       "<div>\n",
       "<style scoped>\n",
       "    .dataframe tbody tr th:only-of-type {\n",
       "        vertical-align: middle;\n",
       "    }\n",
       "\n",
       "    .dataframe tbody tr th {\n",
       "        vertical-align: top;\n",
       "    }\n",
       "\n",
       "    .dataframe thead th {\n",
       "        text-align: right;\n",
       "    }\n",
       "</style>\n",
       "<table border=\"1\" class=\"dataframe\">\n",
       "  <thead>\n",
       "    <tr style=\"text-align: right;\">\n",
       "      <th></th>\n",
       "      <th>VWAP-Stock-1</th>\n",
       "      <th>Low-Stock-1</th>\n",
       "      <th>High-Stock-1</th>\n",
       "      <th>Open-Stock-1</th>\n",
       "      <th>VWAP-Stock-3</th>\n",
       "      <th>High-Stock-3</th>\n",
       "      <th>Low-Stock-3</th>\n",
       "      <th>High-Stock-5</th>\n",
       "      <th>VWAP-Stock-5</th>\n",
       "      <th>Open-Stock-3</th>\n",
       "      <th>...</th>\n",
       "      <th>Open-Stock-5</th>\n",
       "      <th>VWAP-Stock-2</th>\n",
       "      <th>High-Stock-2</th>\n",
       "      <th>Open-Stock-2</th>\n",
       "      <th>Low-Stock-2</th>\n",
       "      <th>Close-Stock-1</th>\n",
       "      <th>Close-Stock-2</th>\n",
       "      <th>Close-Stock-3</th>\n",
       "      <th>Close-Stock-4</th>\n",
       "      <th>Close-Stock-5</th>\n",
       "    </tr>\n",
       "  </thead>\n",
       "  <tbody>\n",
       "    <tr>\n",
       "      <th>0</th>\n",
       "      <td>1855.75</td>\n",
       "      <td>1838.0</td>\n",
       "      <td>1890.00</td>\n",
       "      <td>1889.7</td>\n",
       "      <td>2088.95</td>\n",
       "      <td>2097.8</td>\n",
       "      <td>2045.00</td>\n",
       "      <td>1238.00</td>\n",
       "      <td>1197.29</td>\n",
       "      <td>2095.00</td>\n",
       "      <td>...</td>\n",
       "      <td>1235.0</td>\n",
       "      <td>283.72</td>\n",
       "      <td>285.95</td>\n",
       "      <td>285.40</td>\n",
       "      <td>281.50</td>\n",
       "      <td>1855.10</td>\n",
       "      <td>283.00</td>\n",
       "      <td>2077.25</td>\n",
       "      <td>837.95</td>\n",
       "      <td>1181.70</td>\n",
       "    </tr>\n",
       "    <tr>\n",
       "      <th>1</th>\n",
       "      <td>1842.82</td>\n",
       "      <td>1828.0</td>\n",
       "      <td>1862.75</td>\n",
       "      <td>1848.0</td>\n",
       "      <td>2059.52</td>\n",
       "      <td>2098.0</td>\n",
       "      <td>2023.00</td>\n",
       "      <td>1206.95</td>\n",
       "      <td>1189.87</td>\n",
       "      <td>2061.45</td>\n",
       "      <td>...</td>\n",
       "      <td>1195.0</td>\n",
       "      <td>281.05</td>\n",
       "      <td>284.80</td>\n",
       "      <td>284.00</td>\n",
       "      <td>279.25</td>\n",
       "      <td>1853.05</td>\n",
       "      <td>281.30</td>\n",
       "      <td>2079.85</td>\n",
       "      <td>842.30</td>\n",
       "      <td>1201.15</td>\n",
       "    </tr>\n",
       "    <tr>\n",
       "      <th>2</th>\n",
       "      <td>1893.91</td>\n",
       "      <td>1864.1</td>\n",
       "      <td>1910.00</td>\n",
       "      <td>1864.1</td>\n",
       "      <td>2107.84</td>\n",
       "      <td>2131.5</td>\n",
       "      <td>2091.05</td>\n",
       "      <td>1248.00</td>\n",
       "      <td>1231.63</td>\n",
       "      <td>2131.50</td>\n",
       "      <td>...</td>\n",
       "      <td>1211.0</td>\n",
       "      <td>285.34</td>\n",
       "      <td>286.85</td>\n",
       "      <td>283.00</td>\n",
       "      <td>282.50</td>\n",
       "      <td>1905.60</td>\n",
       "      <td>285.50</td>\n",
       "      <td>2114.90</td>\n",
       "      <td>854.10</td>\n",
       "      <td>1242.30</td>\n",
       "    </tr>\n",
       "    <tr>\n",
       "      <th>3</th>\n",
       "      <td>1889.21</td>\n",
       "      <td>1880.1</td>\n",
       "      <td>1909.80</td>\n",
       "      <td>1906.0</td>\n",
       "      <td>2145.36</td>\n",
       "      <td>2156.0</td>\n",
       "      <td>2095.50</td>\n",
       "      <td>1258.00</td>\n",
       "      <td>1249.72</td>\n",
       "      <td>2114.90</td>\n",
       "      <td>...</td>\n",
       "      <td>1240.0</td>\n",
       "      <td>289.81</td>\n",
       "      <td>291.80</td>\n",
       "      <td>288.85</td>\n",
       "      <td>277.00</td>\n",
       "      <td>1885.70</td>\n",
       "      <td>290.85</td>\n",
       "      <td>2146.75</td>\n",
       "      <td>865.85</td>\n",
       "      <td>1245.45</td>\n",
       "    </tr>\n",
       "    <tr>\n",
       "      <th>4</th>\n",
       "      <td>1877.11</td>\n",
       "      <td>1853.0</td>\n",
       "      <td>1897.00</td>\n",
       "      <td>1880.0</td>\n",
       "      <td>2223.10</td>\n",
       "      <td>2244.0</td>\n",
       "      <td>2189.00</td>\n",
       "      <td>1242.60</td>\n",
       "      <td>1229.32</td>\n",
       "      <td>2189.00</td>\n",
       "      <td>...</td>\n",
       "      <td>1214.4</td>\n",
       "      <td>290.00</td>\n",
       "      <td>292.60</td>\n",
       "      <td>290.70</td>\n",
       "      <td>286.55</td>\n",
       "      <td>1862.70</td>\n",
       "      <td>289.70</td>\n",
       "      <td>2238.00</td>\n",
       "      <td>817.50</td>\n",
       "      <td>1226.20</td>\n",
       "    </tr>\n",
       "  </tbody>\n",
       "</table>\n",
       "<p>5 rows × 26 columns</p>\n",
       "</div>"
      ],
      "text/plain": [
       "   VWAP-Stock-1  Low-Stock-1  High-Stock-1  Open-Stock-1  VWAP-Stock-3  \\\n",
       "0       1855.75       1838.0       1890.00        1889.7       2088.95   \n",
       "1       1842.82       1828.0       1862.75        1848.0       2059.52   \n",
       "2       1893.91       1864.1       1910.00        1864.1       2107.84   \n",
       "3       1889.21       1880.1       1909.80        1906.0       2145.36   \n",
       "4       1877.11       1853.0       1897.00        1880.0       2223.10   \n",
       "\n",
       "   High-Stock-3  Low-Stock-3  High-Stock-5  VWAP-Stock-5  Open-Stock-3  ...  \\\n",
       "0        2097.8      2045.00       1238.00       1197.29       2095.00  ...   \n",
       "1        2098.0      2023.00       1206.95       1189.87       2061.45  ...   \n",
       "2        2131.5      2091.05       1248.00       1231.63       2131.50  ...   \n",
       "3        2156.0      2095.50       1258.00       1249.72       2114.90  ...   \n",
       "4        2244.0      2189.00       1242.60       1229.32       2189.00  ...   \n",
       "\n",
       "   Open-Stock-5  VWAP-Stock-2  High-Stock-2  Open-Stock-2  Low-Stock-2  \\\n",
       "0        1235.0        283.72        285.95        285.40       281.50   \n",
       "1        1195.0        281.05        284.80        284.00       279.25   \n",
       "2        1211.0        285.34        286.85        283.00       282.50   \n",
       "3        1240.0        289.81        291.80        288.85       277.00   \n",
       "4        1214.4        290.00        292.60        290.70       286.55   \n",
       "\n",
       "   Close-Stock-1  Close-Stock-2  Close-Stock-3  Close-Stock-4  Close-Stock-5  \n",
       "0        1855.10         283.00        2077.25         837.95        1181.70  \n",
       "1        1853.05         281.30        2079.85         842.30        1201.15  \n",
       "2        1905.60         285.50        2114.90         854.10        1242.30  \n",
       "3        1885.70         290.85        2146.75         865.85        1245.45  \n",
       "4        1862.70         289.70        2238.00         817.50        1226.20  \n",
       "\n",
       "[5 rows x 26 columns]"
      ]
     },
     "execution_count": 158,
     "metadata": {},
     "output_type": "execute_result"
    }
   ],
   "source": [
    "outliers = list(set(np.where(z > 3)[0]))\n",
    "new_df = combined.drop(outliers, axis = 0).reset_index(drop = True)\n",
    "new_df.head()"
   ]
  },
  {
   "cell_type": "code",
   "execution_count": 159,
   "metadata": {},
   "outputs": [],
   "source": [
    "new_features = new_df.drop(['Close-Stock-1','Close-Stock-2','Close-Stock-3','Close-Stock-4','Close-Stock-5' ], axis = 1)\n",
    "new_target = new_df[['Close-Stock-1','Close-Stock-2','Close-Stock-3','Close-Stock-4','Close-Stock-5' ]]"
   ]
  },
  {
   "cell_type": "code",
   "execution_count": 160,
   "metadata": {},
   "outputs": [
    {
     "data": {
      "text/plain": [
       "((283, 21), (283, 5))"
      ]
     },
     "execution_count": 160,
     "metadata": {},
     "output_type": "execute_result"
    }
   ],
   "source": [
    "new_features.shape, new_target.shape"
   ]
  },
  {
   "cell_type": "code",
   "execution_count": 161,
   "metadata": {},
   "outputs": [],
   "source": [
    "new_xtrain, new_xtest, new_ytrain, new_ytest = train_test_split(new_features, new_target, test_size = 0.20, random_state = 21)\n"
   ]
  },
  {
   "cell_type": "code",
   "execution_count": 162,
   "metadata": {},
   "outputs": [
    {
     "data": {
      "text/plain": [
       "LinearRegression()"
      ]
     },
     "execution_count": 162,
     "metadata": {},
     "output_type": "execute_result"
    }
   ],
   "source": [
    "linear_model.fit(new_xtrain, new_ytrain)"
   ]
  },
  {
   "cell_type": "code",
   "execution_count": 163,
   "metadata": {},
   "outputs": [],
   "source": [
    "new_pred = linear_model.predict(new_xtest)"
   ]
  },
  {
   "cell_type": "code",
   "execution_count": 164,
   "metadata": {},
   "outputs": [
    {
     "name": "stdout",
     "output_type": "stream",
     "text": [
      "mse:  77.11876824370619\n",
      "rmse:  8.78172922855779\n"
     ]
    }
   ],
   "source": [
    "print('mse: ', mean_squared_error(new_pred, new_ytest))\n",
    "print('rmse: ', sqrt(mean_squared_error(new_pred, new_ytest)))"
   ]
  },
  {
   "cell_type": "code",
   "execution_count": 165,
   "metadata": {},
   "outputs": [],
   "source": [
    "nonO_preds = linear_model.predict(imp_test_features)"
   ]
  },
  {
   "cell_type": "code",
   "execution_count": 167,
   "metadata": {},
   "outputs": [],
   "source": [
    "f = list(nonO_preds)\n",
    "nonO_imp_preds = pd.DataFrame(f, columns = ['Close-Stock-1','Close-Stock-2','Close-Stock-3','Close-Stock-4','Close-Stock-5' ])\n",
    "\n",
    "\n",
    "nonO_imp_predictions_output = test_data.drop(['Open-Stock-1', 'High-Stock-1', 'Low-Stock-1', 'VWAP-Stock-1',\n",
    "       'Volume-Stock-1', 'Turnover-Stock-1', 'Open-Stock-2', 'High-Stock-2',\n",
    "       'Low-Stock-2', 'VWAP-Stock-2', 'Volume-Stock-2', 'Turnover-Stock-2',\n",
    "       'Open-Stock-3', 'High-Stock-3', 'Low-Stock-3', 'VWAP-Stock-3',\n",
    "       'Volume-Stock-3', 'Turnover-Stock-3', 'Open-Stock-4', 'High-Stock-4',\n",
    "       'Low-Stock-4', 'VWAP-Stock-4', 'Volume-Stock-4', 'Turnover-Stock-4',\n",
    "       'Open-Stock-5', 'High-Stock-5', 'Low-Stock-5', 'VWAP-Stock-5',\n",
    "       'Volume-Stock-5', 'Turnover-Stock-5'], axis = 1)\n",
    "\n",
    "nonO_imp_predictions_output[['Close-Stock-1','Close-Stock-2','Close-Stock-3','Close-Stock-4','Close-Stock-5' ]] = nonO_imp_preds\n"
   ]
  },
  {
   "cell_type": "code",
   "execution_count": 168,
   "metadata": {},
   "outputs": [],
   "source": [
    "nonO_imp_predictions_output.to_csv('C:\\\\Users\\\\dines\\\\OneDrive\\\\Documents\\\\data projects\\\\output.csv', index = False)"
   ]
  },
  {
   "cell_type": "code",
   "execution_count": null,
   "metadata": {},
   "outputs": [],
   "source": []
  },
  {
   "cell_type": "code",
   "execution_count": null,
   "metadata": {},
   "outputs": [],
   "source": []
  },
  {
   "cell_type": "code",
   "execution_count": 155,
   "metadata": {},
   "outputs": [],
   "source": [
    "RMSE = []\n",
    "for i in range(1, 100):\n",
    "    new_xtrain, new_xtest, new_ytrain, new_ytest = train_test_split(new_features, new_target, test_size = 0.20, random_state = i)\n",
    "    linear_model.fit(new_xtrain, new_ytrain)\n",
    "    new_preds = linear_model.predict(new_xtest)\n",
    "    RMSE.append(sqrt(mean_squared_error(new_pred, new_ytest)))"
   ]
  },
  {
   "cell_type": "code",
   "execution_count": 157,
   "metadata": {},
   "outputs": [
    {
     "data": {
      "text/html": [
       "<div>\n",
       "<style scoped>\n",
       "    .dataframe tbody tr th:only-of-type {\n",
       "        vertical-align: middle;\n",
       "    }\n",
       "\n",
       "    .dataframe tbody tr th {\n",
       "        vertical-align: top;\n",
       "    }\n",
       "\n",
       "    .dataframe thead th {\n",
       "        text-align: right;\n",
       "    }\n",
       "</style>\n",
       "<table border=\"1\" class=\"dataframe\">\n",
       "  <thead>\n",
       "    <tr style=\"text-align: right;\">\n",
       "      <th></th>\n",
       "      <th>random_state</th>\n",
       "      <th>RMSE</th>\n",
       "    </tr>\n",
       "  </thead>\n",
       "  <tbody>\n",
       "    <tr>\n",
       "      <th>20</th>\n",
       "      <td>21</td>\n",
       "      <td>8.781729</td>\n",
       "    </tr>\n",
       "    <tr>\n",
       "      <th>30</th>\n",
       "      <td>31</td>\n",
       "      <td>160.015294</td>\n",
       "    </tr>\n",
       "    <tr>\n",
       "      <th>28</th>\n",
       "      <td>29</td>\n",
       "      <td>169.078661</td>\n",
       "    </tr>\n",
       "    <tr>\n",
       "      <th>35</th>\n",
       "      <td>36</td>\n",
       "      <td>170.000475</td>\n",
       "    </tr>\n",
       "    <tr>\n",
       "      <th>5</th>\n",
       "      <td>6</td>\n",
       "      <td>174.165213</td>\n",
       "    </tr>\n",
       "    <tr>\n",
       "      <th>...</th>\n",
       "      <td>...</td>\n",
       "      <td>...</td>\n",
       "    </tr>\n",
       "    <tr>\n",
       "      <th>51</th>\n",
       "      <td>52</td>\n",
       "      <td>216.997441</td>\n",
       "    </tr>\n",
       "    <tr>\n",
       "      <th>0</th>\n",
       "      <td>1</td>\n",
       "      <td>217.201165</td>\n",
       "    </tr>\n",
       "    <tr>\n",
       "      <th>24</th>\n",
       "      <td>25</td>\n",
       "      <td>218.630631</td>\n",
       "    </tr>\n",
       "    <tr>\n",
       "      <th>58</th>\n",
       "      <td>59</td>\n",
       "      <td>220.015106</td>\n",
       "    </tr>\n",
       "    <tr>\n",
       "      <th>45</th>\n",
       "      <td>46</td>\n",
       "      <td>220.968755</td>\n",
       "    </tr>\n",
       "  </tbody>\n",
       "</table>\n",
       "<p>99 rows × 2 columns</p>\n",
       "</div>"
      ],
      "text/plain": [
       "    random_state        RMSE\n",
       "20            21    8.781729\n",
       "30            31  160.015294\n",
       "28            29  169.078661\n",
       "35            36  170.000475\n",
       "5              6  174.165213\n",
       "..           ...         ...\n",
       "51            52  216.997441\n",
       "0              1  217.201165\n",
       "24            25  218.630631\n",
       "58            59  220.015106\n",
       "45            46  220.968755\n",
       "\n",
       "[99 rows x 2 columns]"
      ]
     },
     "execution_count": 157,
     "metadata": {},
     "output_type": "execute_result"
    }
   ],
   "source": [
    "df_rmse = pd.DataFrame({'random_state' : range(1,100), 'RMSE' : RMSE})\n",
    "df_rmse.sort_values('RMSE', ascending = True)"
   ]
  },
  {
   "cell_type": "code",
   "execution_count": null,
   "metadata": {},
   "outputs": [],
   "source": [
    "linear"
   ]
  },
  {
   "cell_type": "code",
   "execution_count": null,
   "metadata": {},
   "outputs": [],
   "source": []
  }
 ],
 "metadata": {
  "kernelspec": {
   "display_name": "Python 3",
   "language": "python",
   "name": "python3"
  },
  "language_info": {
   "codemirror_mode": {
    "name": "ipython",
    "version": 3
   },
   "file_extension": ".py",
   "mimetype": "text/x-python",
   "name": "python",
   "nbconvert_exporter": "python",
   "pygments_lexer": "ipython3",
   "version": "3.8.3"
  }
 },
 "nbformat": 4,
 "nbformat_minor": 4
}
